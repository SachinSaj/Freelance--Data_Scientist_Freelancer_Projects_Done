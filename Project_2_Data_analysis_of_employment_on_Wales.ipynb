{
 "cells": [
  {
   "cell_type": "code",
   "execution_count": 1,
   "metadata": {},
   "outputs": [],
   "source": [
    "import numpy as np\n",
    "import pandas as pd\n",
    "import seaborn as sns\n",
    "import matplotlib.pyplot as plt"
   ]
  },
  {
   "cell_type": "markdown",
   "metadata": {},
   "source": [
    "## 1. Data Processing"
   ]
  },
  {
   "cell_type": "markdown",
   "metadata": {},
   "source": [
    "### 1.1"
   ]
  },
  {
   "cell_type": "code",
   "execution_count": 135,
   "metadata": {},
   "outputs": [
    {
     "name": "stdout",
     "output_type": "stream",
     "text": [
      "<class 'pandas.core.frame.DataFrame'>\n"
     ]
    },
    {
     "data": {
      "text/html": [
       "<div>\n",
       "<style scoped>\n",
       "    .dataframe tbody tr th:only-of-type {\n",
       "        vertical-align: middle;\n",
       "    }\n",
       "\n",
       "    .dataframe tbody tr th {\n",
       "        vertical-align: top;\n",
       "    }\n",
       "\n",
       "    .dataframe thead th {\n",
       "        text-align: right;\n",
       "    }\n",
       "</style>\n",
       "<table border=\"1\" class=\"dataframe\">\n",
       "  <thead>\n",
       "    <tr style=\"text-align: right;\">\n",
       "      <th></th>\n",
       "      <th>2018</th>\n",
       "      <th>2017</th>\n",
       "      <th>2016</th>\n",
       "      <th>2015</th>\n",
       "      <th>2014</th>\n",
       "      <th>2013</th>\n",
       "      <th>2012</th>\n",
       "      <th>2011</th>\n",
       "      <th>2010</th>\n",
       "      <th>2009</th>\n",
       "    </tr>\n",
       "  </thead>\n",
       "  <tbody>\n",
       "    <tr>\n",
       "      <th>0</th>\n",
       "      <td>41100</td>\n",
       "      <td>40200</td>\n",
       "      <td>43200</td>\n",
       "      <td>40700</td>\n",
       "      <td>42700</td>\n",
       "      <td>36800</td>\n",
       "      <td>36100</td>\n",
       "      <td>36100</td>\n",
       "      <td>38200</td>\n",
       "      <td>37700</td>\n",
       "    </tr>\n",
       "    <tr>\n",
       "      <th>1</th>\n",
       "      <td>165700</td>\n",
       "      <td>165100</td>\n",
       "      <td>162500</td>\n",
       "      <td>172300</td>\n",
       "      <td>173300</td>\n",
       "      <td>164200</td>\n",
       "      <td>154400</td>\n",
       "      <td>158600</td>\n",
       "      <td>149800</td>\n",
       "      <td>156700</td>\n",
       "    </tr>\n",
       "    <tr>\n",
       "      <th>2</th>\n",
       "      <td>101800</td>\n",
       "      <td>90800</td>\n",
       "      <td>102700</td>\n",
       "      <td>92600</td>\n",
       "      <td>97000</td>\n",
       "      <td>89300</td>\n",
       "      <td>91300</td>\n",
       "      <td>90000</td>\n",
       "      <td>93200</td>\n",
       "      <td>96600</td>\n",
       "    </tr>\n",
       "    <tr>\n",
       "      <th>3</th>\n",
       "      <td>190600</td>\n",
       "      <td>185100</td>\n",
       "      <td>198400</td>\n",
       "      <td>206700</td>\n",
       "      <td>194300</td>\n",
       "      <td>200900</td>\n",
       "      <td>202800</td>\n",
       "      <td>202600</td>\n",
       "      <td>202700</td>\n",
       "      <td>203700</td>\n",
       "    </tr>\n",
       "    <tr>\n",
       "      <th>4</th>\n",
       "      <td>31500</td>\n",
       "      <td>58900</td>\n",
       "      <td>34400</td>\n",
       "      <td>24000</td>\n",
       "      <td>35700</td>\n",
       "      <td>26900</td>\n",
       "      <td>27200</td>\n",
       "      <td>26400</td>\n",
       "      <td>27900</td>\n",
       "      <td>27800</td>\n",
       "    </tr>\n",
       "    <tr>\n",
       "      <th>5</th>\n",
       "      <td>35500</td>\n",
       "      <td>32100</td>\n",
       "      <td>31000</td>\n",
       "      <td>30800</td>\n",
       "      <td>32400</td>\n",
       "      <td>32400</td>\n",
       "      <td>31100</td>\n",
       "      <td>33200</td>\n",
       "      <td>29800</td>\n",
       "      <td>33800</td>\n",
       "    </tr>\n",
       "    <tr>\n",
       "      <th>6</th>\n",
       "      <td>25200</td>\n",
       "      <td>18200</td>\n",
       "      <td>22700</td>\n",
       "      <td>19100</td>\n",
       "      <td>22200</td>\n",
       "      <td>18000</td>\n",
       "      <td>18800</td>\n",
       "      <td>17600</td>\n",
       "      <td>14600</td>\n",
       "      <td>13500</td>\n",
       "    </tr>\n",
       "    <tr>\n",
       "      <th>7</th>\n",
       "      <td>89000</td>\n",
       "      <td>82300</td>\n",
       "      <td>72000</td>\n",
       "      <td>78500</td>\n",
       "      <td>64800</td>\n",
       "      <td>72500</td>\n",
       "      <td>59100</td>\n",
       "      <td>63900</td>\n",
       "      <td>64000</td>\n",
       "      <td>64100</td>\n",
       "    </tr>\n",
       "    <tr>\n",
       "      <th>8</th>\n",
       "      <td>89600</td>\n",
       "      <td>86000</td>\n",
       "      <td>83200</td>\n",
       "      <td>85600</td>\n",
       "      <td>86700</td>\n",
       "      <td>89500</td>\n",
       "      <td>88100</td>\n",
       "      <td>88700</td>\n",
       "      <td>93100</td>\n",
       "      <td>92800</td>\n",
       "    </tr>\n",
       "    <tr>\n",
       "      <th>9</th>\n",
       "      <td>81800</td>\n",
       "      <td>83200</td>\n",
       "      <td>72400</td>\n",
       "      <td>77200</td>\n",
       "      <td>73300</td>\n",
       "      <td>75500</td>\n",
       "      <td>72800</td>\n",
       "      <td>72400</td>\n",
       "      <td>68000</td>\n",
       "      <td>64200</td>\n",
       "    </tr>\n",
       "  </tbody>\n",
       "</table>\n",
       "</div>"
      ],
      "text/plain": [
       "     2018    2017    2016    2015    2014    2013    2012    2011    2010  \\\n",
       "0   41100   40200   43200   40700   42700   36800   36100   36100   38200   \n",
       "1  165700  165100  162500  172300  173300  164200  154400  158600  149800   \n",
       "2  101800   90800  102700   92600   97000   89300   91300   90000   93200   \n",
       "3  190600  185100  198400  206700  194300  200900  202800  202600  202700   \n",
       "4   31500   58900   34400   24000   35700   26900   27200   26400   27900   \n",
       "5   35500   32100   31000   30800   32400   32400   31100   33200   29800   \n",
       "6   25200   18200   22700   19100   22200   18000   18800   17600   14600   \n",
       "7   89000   82300   72000   78500   64800   72500   59100   63900   64000   \n",
       "8   89600   86000   83200   85600   86700   89500   88100   88700   93100   \n",
       "9   81800   83200   72400   77200   73300   75500   72800   72400   68000   \n",
       "\n",
       "     2009  \n",
       "0   37700  \n",
       "1  156700  \n",
       "2   96600  \n",
       "3  203700  \n",
       "4   27800  \n",
       "5   33800  \n",
       "6   13500  \n",
       "7   64100  \n",
       "8   92800  \n",
       "9   64200  "
      ]
     },
     "execution_count": 135,
     "metadata": {},
     "output_type": "execute_result"
    }
   ],
   "source": [
    "data = pd.read_excel(r'employement in wales_1.xlsx')\n",
    "print(type(data))\n",
    "data.columns = ['2018', '2017', '2016', '2015', '2014', '2013', '2012', '2011', '2010', '2009']\n",
    "data.head(10)"
   ]
  },
  {
   "cell_type": "markdown",
   "metadata": {},
   "source": [
    "### 1.2"
   ]
  },
  {
   "cell_type": "code",
   "execution_count": 136,
   "metadata": {},
   "outputs": [
    {
     "data": {
      "text/plain": [
       "2018    0\n",
       "2017    0\n",
       "2016    0\n",
       "2015    0\n",
       "2014    0\n",
       "2013    0\n",
       "2012    0\n",
       "2011    0\n",
       "2010    0\n",
       "2009    0\n",
       "dtype: int64"
      ]
     },
     "execution_count": 136,
     "metadata": {},
     "output_type": "execute_result"
    }
   ],
   "source": [
    "# To check for null values\n",
    "\n",
    "data.isnull().sum()\n",
    "\n",
    "# Conculsion: There is no null values"
   ]
  },
  {
   "cell_type": "code",
   "execution_count": 137,
   "metadata": {},
   "outputs": [
    {
     "data": {
      "image/png": "[encoded data removed]",
      "text/plain": [
       "<Figure size 1224x1224 with 10 Axes>"
      ]
     },
     "metadata": {
      "needs_background": "light"
     },
     "output_type": "display_data"
    }
   ],
   "source": [
    "# To check for outliers\n",
    "\n",
    "plt.figure(figsize=(17,17))\n",
    "p = ['2018', '2017', '2016', '2015', '2014', '2013', '2012',\n",
    "       '2011', '2010', '2009']\n",
    "\n",
    "for i,j in enumerate(p):\n",
    "    plt.subplot(5,5,i+1)\n",
    "    sns.boxplot(x=data[j])\n",
    "    \n",
    "# Conclusion: Outliers were found in 2017,2016,2015,2014,2013,2012,2011,2010,2009"
   ]
  },
  {
   "cell_type": "code",
   "execution_count": 138,
   "metadata": {},
   "outputs": [
    {
     "data": {
      "text/html": [
       "<div>\n",
       "<style scoped>\n",
       "    .dataframe tbody tr th:only-of-type {\n",
       "        vertical-align: middle;\n",
       "    }\n",
       "\n",
       "    .dataframe tbody tr th {\n",
       "        vertical-align: top;\n",
       "    }\n",
       "\n",
       "    .dataframe thead th {\n",
       "        text-align: right;\n",
       "    }\n",
       "</style>\n",
       "<table border=\"1\" class=\"dataframe\">\n",
       "  <thead>\n",
       "    <tr style=\"text-align: right;\">\n",
       "      <th></th>\n",
       "      <th>2018</th>\n",
       "      <th>2017</th>\n",
       "      <th>2016</th>\n",
       "      <th>2015</th>\n",
       "      <th>2014</th>\n",
       "      <th>2013</th>\n",
       "      <th>2012</th>\n",
       "      <th>2011</th>\n",
       "      <th>2010</th>\n",
       "      <th>2009</th>\n",
       "    </tr>\n",
       "  </thead>\n",
       "  <tbody>\n",
       "    <tr>\n",
       "      <th>count</th>\n",
       "      <td>10.000000</td>\n",
       "      <td>10.00000</td>\n",
       "      <td>10.000000</td>\n",
       "      <td>10.000000</td>\n",
       "      <td>10.000000</td>\n",
       "      <td>10.00000</td>\n",
       "      <td>10.000000</td>\n",
       "      <td>10.000000</td>\n",
       "      <td>10.000000</td>\n",
       "      <td>10.000000</td>\n",
       "    </tr>\n",
       "    <tr>\n",
       "      <th>mean</th>\n",
       "      <td>85180.000000</td>\n",
       "      <td>84190.00000</td>\n",
       "      <td>82250.000000</td>\n",
       "      <td>82750.000000</td>\n",
       "      <td>82240.000000</td>\n",
       "      <td>80600.00000</td>\n",
       "      <td>78170.000000</td>\n",
       "      <td>78950.000000</td>\n",
       "      <td>78130.000000</td>\n",
       "      <td>79090.000000</td>\n",
       "    </tr>\n",
       "    <tr>\n",
       "      <th>std</th>\n",
       "      <td>56577.298156</td>\n",
       "      <td>54184.38582</td>\n",
       "      <td>58251.719097</td>\n",
       "      <td>62810.743066</td>\n",
       "      <td>58962.703843</td>\n",
       "      <td>60324.76919</td>\n",
       "      <td>59735.863972</td>\n",
       "      <td>60161.380193</td>\n",
       "      <td>59532.494395</td>\n",
       "      <td>60726.132943</td>\n",
       "    </tr>\n",
       "    <tr>\n",
       "      <th>min</th>\n",
       "      <td>25200.000000</td>\n",
       "      <td>18200.00000</td>\n",
       "      <td>22700.000000</td>\n",
       "      <td>19100.000000</td>\n",
       "      <td>22200.000000</td>\n",
       "      <td>18000.00000</td>\n",
       "      <td>18800.000000</td>\n",
       "      <td>17600.000000</td>\n",
       "      <td>14600.000000</td>\n",
       "      <td>13500.000000</td>\n",
       "    </tr>\n",
       "    <tr>\n",
       "      <th>25%</th>\n",
       "      <td>36900.000000</td>\n",
       "      <td>44875.00000</td>\n",
       "      <td>36600.000000</td>\n",
       "      <td>33275.000000</td>\n",
       "      <td>37450.000000</td>\n",
       "      <td>33500.00000</td>\n",
       "      <td>32350.000000</td>\n",
       "      <td>33925.000000</td>\n",
       "      <td>31900.000000</td>\n",
       "      <td>34775.000000</td>\n",
       "    </tr>\n",
       "    <tr>\n",
       "      <th>50%</th>\n",
       "      <td>85400.000000</td>\n",
       "      <td>82750.00000</td>\n",
       "      <td>72200.000000</td>\n",
       "      <td>77850.000000</td>\n",
       "      <td>69050.000000</td>\n",
       "      <td>74000.00000</td>\n",
       "      <td>65950.000000</td>\n",
       "      <td>68150.000000</td>\n",
       "      <td>66000.000000</td>\n",
       "      <td>64150.000000</td>\n",
       "    </tr>\n",
       "    <tr>\n",
       "      <th>75%</th>\n",
       "      <td>98750.000000</td>\n",
       "      <td>89600.00000</td>\n",
       "      <td>97825.000000</td>\n",
       "      <td>90850.000000</td>\n",
       "      <td>94425.000000</td>\n",
       "      <td>89450.00000</td>\n",
       "      <td>90500.000000</td>\n",
       "      <td>89675.000000</td>\n",
       "      <td>93175.000000</td>\n",
       "      <td>95650.000000</td>\n",
       "    </tr>\n",
       "    <tr>\n",
       "      <th>max</th>\n",
       "      <td>190600.000000</td>\n",
       "      <td>185100.00000</td>\n",
       "      <td>198400.000000</td>\n",
       "      <td>206700.000000</td>\n",
       "      <td>194300.000000</td>\n",
       "      <td>200900.00000</td>\n",
       "      <td>202800.000000</td>\n",
       "      <td>202600.000000</td>\n",
       "      <td>202700.000000</td>\n",
       "      <td>203700.000000</td>\n",
       "    </tr>\n",
       "  </tbody>\n",
       "</table>\n",
       "</div>"
      ],
      "text/plain": [
       "                2018          2017           2016           2015  \\\n",
       "count      10.000000      10.00000      10.000000      10.000000   \n",
       "mean    85180.000000   84190.00000   82250.000000   82750.000000   \n",
       "std     56577.298156   54184.38582   58251.719097   62810.743066   \n",
       "min     25200.000000   18200.00000   22700.000000   19100.000000   \n",
       "25%     36900.000000   44875.00000   36600.000000   33275.000000   \n",
       "50%     85400.000000   82750.00000   72200.000000   77850.000000   \n",
       "75%     98750.000000   89600.00000   97825.000000   90850.000000   \n",
       "max    190600.000000  185100.00000  198400.000000  206700.000000   \n",
       "\n",
       "                2014          2013           2012           2011  \\\n",
       "count      10.000000      10.00000      10.000000      10.000000   \n",
       "mean    82240.000000   80600.00000   78170.000000   78950.000000   \n",
       "std     58962.703843   60324.76919   59735.863972   60161.380193   \n",
       "min     22200.000000   18000.00000   18800.000000   17600.000000   \n",
       "25%     37450.000000   33500.00000   32350.000000   33925.000000   \n",
       "50%     69050.000000   74000.00000   65950.000000   68150.000000   \n",
       "75%     94425.000000   89450.00000   90500.000000   89675.000000   \n",
       "max    194300.000000  200900.00000  202800.000000  202600.000000   \n",
       "\n",
       "                2010           2009  \n",
       "count      10.000000      10.000000  \n",
       "mean    78130.000000   79090.000000  \n",
       "std     59532.494395   60726.132943  \n",
       "min     14600.000000   13500.000000  \n",
       "25%     31900.000000   34775.000000  \n",
       "50%     66000.000000   64150.000000  \n",
       "75%     93175.000000   95650.000000  \n",
       "max    202700.000000  203700.000000  "
      ]
     },
     "execution_count": 138,
     "metadata": {},
     "output_type": "execute_result"
    }
   ],
   "source": [
    "data.describe()"
   ]
  },
  {
   "cell_type": "code",
   "execution_count": 139,
   "metadata": {},
   "outputs": [],
   "source": [
    "p = ['2018', '2017', '2016', '2015', '2014', '2013', '2012',\n",
    "       '2011', '2010', '2009']\n",
    "\n",
    "for i in p:\n",
    "    data[i] = np.where(data[i] > data[i].quantile(0.95), data[i].mean(), data[i])\n"
   ]
  },
  {
   "cell_type": "code",
   "execution_count": 140,
   "metadata": {},
   "outputs": [
    {
     "data": {
      "text/html": [
       "<div>\n",
       "<style scoped>\n",
       "    .dataframe tbody tr th:only-of-type {\n",
       "        vertical-align: middle;\n",
       "    }\n",
       "\n",
       "    .dataframe tbody tr th {\n",
       "        vertical-align: top;\n",
       "    }\n",
       "\n",
       "    .dataframe thead th {\n",
       "        text-align: right;\n",
       "    }\n",
       "</style>\n",
       "<table border=\"1\" class=\"dataframe\">\n",
       "  <thead>\n",
       "    <tr style=\"text-align: right;\">\n",
       "      <th></th>\n",
       "      <th>2018</th>\n",
       "      <th>2017</th>\n",
       "      <th>2016</th>\n",
       "      <th>2015</th>\n",
       "      <th>2014</th>\n",
       "      <th>2013</th>\n",
       "      <th>2012</th>\n",
       "      <th>2011</th>\n",
       "      <th>2010</th>\n",
       "      <th>2009</th>\n",
       "    </tr>\n",
       "  </thead>\n",
       "  <tbody>\n",
       "    <tr>\n",
       "      <th>count</th>\n",
       "      <td>10.000000</td>\n",
       "      <td>10.000000</td>\n",
       "      <td>10.000000</td>\n",
       "      <td>10.000000</td>\n",
       "      <td>10.000000</td>\n",
       "      <td>10.000000</td>\n",
       "      <td>10.000000</td>\n",
       "      <td>10.000000</td>\n",
       "      <td>10.000000</td>\n",
       "      <td>10.00000</td>\n",
       "    </tr>\n",
       "    <tr>\n",
       "      <th>mean</th>\n",
       "      <td>74638.000000</td>\n",
       "      <td>74099.000000</td>\n",
       "      <td>70635.000000</td>\n",
       "      <td>70355.000000</td>\n",
       "      <td>71034.000000</td>\n",
       "      <td>68570.000000</td>\n",
       "      <td>65707.000000</td>\n",
       "      <td>66585.000000</td>\n",
       "      <td>65673.000000</td>\n",
       "      <td>66629.00000</td>\n",
       "    </tr>\n",
       "    <tr>\n",
       "      <th>std</th>\n",
       "      <td>42926.554796</td>\n",
       "      <td>41126.387974</td>\n",
       "      <td>41765.829002</td>\n",
       "      <td>45468.844339</td>\n",
       "      <td>44065.880023</td>\n",
       "      <td>43246.581111</td>\n",
       "      <td>40864.899921</td>\n",
       "      <td>41841.327589</td>\n",
       "      <td>40589.554773</td>\n",
       "      <td>42306.48977</td>\n",
       "    </tr>\n",
       "    <tr>\n",
       "      <th>min</th>\n",
       "      <td>25200.000000</td>\n",
       "      <td>18200.000000</td>\n",
       "      <td>22700.000000</td>\n",
       "      <td>19100.000000</td>\n",
       "      <td>22200.000000</td>\n",
       "      <td>18000.000000</td>\n",
       "      <td>18800.000000</td>\n",
       "      <td>17600.000000</td>\n",
       "      <td>14600.000000</td>\n",
       "      <td>13500.00000</td>\n",
       "    </tr>\n",
       "    <tr>\n",
       "      <th>25%</th>\n",
       "      <td>36900.000000</td>\n",
       "      <td>44875.000000</td>\n",
       "      <td>36600.000000</td>\n",
       "      <td>33275.000000</td>\n",
       "      <td>37450.000000</td>\n",
       "      <td>33500.000000</td>\n",
       "      <td>32350.000000</td>\n",
       "      <td>33925.000000</td>\n",
       "      <td>31900.000000</td>\n",
       "      <td>34775.00000</td>\n",
       "    </tr>\n",
       "    <tr>\n",
       "      <th>50%</th>\n",
       "      <td>83490.000000</td>\n",
       "      <td>82750.000000</td>\n",
       "      <td>72200.000000</td>\n",
       "      <td>77850.000000</td>\n",
       "      <td>69050.000000</td>\n",
       "      <td>74000.000000</td>\n",
       "      <td>65950.000000</td>\n",
       "      <td>68150.000000</td>\n",
       "      <td>66000.000000</td>\n",
       "      <td>64150.00000</td>\n",
       "    </tr>\n",
       "    <tr>\n",
       "      <th>75%</th>\n",
       "      <td>89450.000000</td>\n",
       "      <td>85547.500000</td>\n",
       "      <td>82962.500000</td>\n",
       "      <td>84887.500000</td>\n",
       "      <td>85585.000000</td>\n",
       "      <td>87125.000000</td>\n",
       "      <td>85617.500000</td>\n",
       "      <td>86262.500000</td>\n",
       "      <td>89357.500000</td>\n",
       "      <td>89372.50000</td>\n",
       "    </tr>\n",
       "    <tr>\n",
       "      <th>max</th>\n",
       "      <td>165700.000000</td>\n",
       "      <td>165100.000000</td>\n",
       "      <td>162500.000000</td>\n",
       "      <td>172300.000000</td>\n",
       "      <td>173300.000000</td>\n",
       "      <td>164200.000000</td>\n",
       "      <td>154400.000000</td>\n",
       "      <td>158600.000000</td>\n",
       "      <td>149800.000000</td>\n",
       "      <td>156700.00000</td>\n",
       "    </tr>\n",
       "  </tbody>\n",
       "</table>\n",
       "</div>"
      ],
      "text/plain": [
       "                2018           2017           2016           2015  \\\n",
       "count      10.000000      10.000000      10.000000      10.000000   \n",
       "mean    74638.000000   74099.000000   70635.000000   70355.000000   \n",
       "std     42926.554796   41126.387974   41765.829002   45468.844339   \n",
       "min     25200.000000   18200.000000   22700.000000   19100.000000   \n",
       "25%     36900.000000   44875.000000   36600.000000   33275.000000   \n",
       "50%     83490.000000   82750.000000   72200.000000   77850.000000   \n",
       "75%     89450.000000   85547.500000   82962.500000   84887.500000   \n",
       "max    165700.000000  165100.000000  162500.000000  172300.000000   \n",
       "\n",
       "                2014           2013           2012           2011  \\\n",
       "count      10.000000      10.000000      10.000000      10.000000   \n",
       "mean    71034.000000   68570.000000   65707.000000   66585.000000   \n",
       "std     44065.880023   43246.581111   40864.899921   41841.327589   \n",
       "min     22200.000000   18000.000000   18800.000000   17600.000000   \n",
       "25%     37450.000000   33500.000000   32350.000000   33925.000000   \n",
       "50%     69050.000000   74000.000000   65950.000000   68150.000000   \n",
       "75%     85585.000000   87125.000000   85617.500000   86262.500000   \n",
       "max    173300.000000  164200.000000  154400.000000  158600.000000   \n",
       "\n",
       "                2010          2009  \n",
       "count      10.000000      10.00000  \n",
       "mean    65673.000000   66629.00000  \n",
       "std     40589.554773   42306.48977  \n",
       "min     14600.000000   13500.00000  \n",
       "25%     31900.000000   34775.00000  \n",
       "50%     66000.000000   64150.00000  \n",
       "75%     89357.500000   89372.50000  \n",
       "max    149800.000000  156700.00000  "
      ]
     },
     "execution_count": 140,
     "metadata": {},
     "output_type": "execute_result"
    }
   ],
   "source": [
    "data.describe()\n",
    "\n",
    "# Conclusion: Outlier is removed!"
   ]
  },
  {
   "cell_type": "markdown",
   "metadata": {},
   "source": [
    "### 1.3"
   ]
  },
  {
   "cell_type": "code",
   "execution_count": 141,
   "metadata": {},
   "outputs": [
    {
     "data": {
      "text/html": [
       "<div>\n",
       "<style scoped>\n",
       "    .dataframe tbody tr th:only-of-type {\n",
       "        vertical-align: middle;\n",
       "    }\n",
       "\n",
       "    .dataframe tbody tr th {\n",
       "        vertical-align: top;\n",
       "    }\n",
       "\n",
       "    .dataframe thead th {\n",
       "        text-align: right;\n",
       "    }\n",
       "</style>\n",
       "<table border=\"1\" class=\"dataframe\">\n",
       "  <thead>\n",
       "    <tr style=\"text-align: right;\">\n",
       "      <th></th>\n",
       "      <th>2018</th>\n",
       "      <th>2017</th>\n",
       "      <th>2016</th>\n",
       "      <th>2015</th>\n",
       "      <th>2014</th>\n",
       "      <th>2013</th>\n",
       "      <th>2012</th>\n",
       "      <th>2011</th>\n",
       "      <th>2010</th>\n",
       "      <th>2009</th>\n",
       "      <th>Industry</th>\n",
       "    </tr>\n",
       "  </thead>\n",
       "  <tbody>\n",
       "    <tr>\n",
       "      <th>0</th>\n",
       "      <td>41100.0</td>\n",
       "      <td>40200.0</td>\n",
       "      <td>43200.0</td>\n",
       "      <td>40700.0</td>\n",
       "      <td>42700.0</td>\n",
       "      <td>36800.0</td>\n",
       "      <td>36100.0</td>\n",
       "      <td>36100.0</td>\n",
       "      <td>38200.0</td>\n",
       "      <td>37700.0</td>\n",
       "      <td>Agriculture</td>\n",
       "    </tr>\n",
       "    <tr>\n",
       "      <th>1</th>\n",
       "      <td>165700.0</td>\n",
       "      <td>165100.0</td>\n",
       "      <td>162500.0</td>\n",
       "      <td>172300.0</td>\n",
       "      <td>173300.0</td>\n",
       "      <td>164200.0</td>\n",
       "      <td>154400.0</td>\n",
       "      <td>158600.0</td>\n",
       "      <td>149800.0</td>\n",
       "      <td>156700.0</td>\n",
       "      <td>Production</td>\n",
       "    </tr>\n",
       "    <tr>\n",
       "      <th>2</th>\n",
       "      <td>101800.0</td>\n",
       "      <td>90800.0</td>\n",
       "      <td>102700.0</td>\n",
       "      <td>92600.0</td>\n",
       "      <td>97000.0</td>\n",
       "      <td>89300.0</td>\n",
       "      <td>91300.0</td>\n",
       "      <td>90000.0</td>\n",
       "      <td>93200.0</td>\n",
       "      <td>96600.0</td>\n",
       "      <td>Construction</td>\n",
       "    </tr>\n",
       "    <tr>\n",
       "      <th>3</th>\n",
       "      <td>85180.0</td>\n",
       "      <td>84190.0</td>\n",
       "      <td>82250.0</td>\n",
       "      <td>82750.0</td>\n",
       "      <td>82240.0</td>\n",
       "      <td>80600.0</td>\n",
       "      <td>78170.0</td>\n",
       "      <td>78950.0</td>\n",
       "      <td>78130.0</td>\n",
       "      <td>79090.0</td>\n",
       "      <td>Retail</td>\n",
       "    </tr>\n",
       "    <tr>\n",
       "      <th>4</th>\n",
       "      <td>31500.0</td>\n",
       "      <td>58900.0</td>\n",
       "      <td>34400.0</td>\n",
       "      <td>24000.0</td>\n",
       "      <td>35700.0</td>\n",
       "      <td>26900.0</td>\n",
       "      <td>27200.0</td>\n",
       "      <td>26400.0</td>\n",
       "      <td>27900.0</td>\n",
       "      <td>27800.0</td>\n",
       "      <td>ICT</td>\n",
       "    </tr>\n",
       "    <tr>\n",
       "      <th>5</th>\n",
       "      <td>35500.0</td>\n",
       "      <td>32100.0</td>\n",
       "      <td>31000.0</td>\n",
       "      <td>30800.0</td>\n",
       "      <td>32400.0</td>\n",
       "      <td>32400.0</td>\n",
       "      <td>31100.0</td>\n",
       "      <td>33200.0</td>\n",
       "      <td>29800.0</td>\n",
       "      <td>33800.0</td>\n",
       "      <td>Finance</td>\n",
       "    </tr>\n",
       "    <tr>\n",
       "      <th>6</th>\n",
       "      <td>25200.0</td>\n",
       "      <td>18200.0</td>\n",
       "      <td>22700.0</td>\n",
       "      <td>19100.0</td>\n",
       "      <td>22200.0</td>\n",
       "      <td>18000.0</td>\n",
       "      <td>18800.0</td>\n",
       "      <td>17600.0</td>\n",
       "      <td>14600.0</td>\n",
       "      <td>13500.0</td>\n",
       "      <td>Real_Estate</td>\n",
       "    </tr>\n",
       "    <tr>\n",
       "      <th>7</th>\n",
       "      <td>89000.0</td>\n",
       "      <td>82300.0</td>\n",
       "      <td>72000.0</td>\n",
       "      <td>78500.0</td>\n",
       "      <td>64800.0</td>\n",
       "      <td>72500.0</td>\n",
       "      <td>59100.0</td>\n",
       "      <td>63900.0</td>\n",
       "      <td>64000.0</td>\n",
       "      <td>64100.0</td>\n",
       "      <td>Professional_Service</td>\n",
       "    </tr>\n",
       "    <tr>\n",
       "      <th>8</th>\n",
       "      <td>89600.0</td>\n",
       "      <td>86000.0</td>\n",
       "      <td>83200.0</td>\n",
       "      <td>85600.0</td>\n",
       "      <td>86700.0</td>\n",
       "      <td>89500.0</td>\n",
       "      <td>88100.0</td>\n",
       "      <td>88700.0</td>\n",
       "      <td>93100.0</td>\n",
       "      <td>92800.0</td>\n",
       "      <td>Public_Adminstration</td>\n",
       "    </tr>\n",
       "    <tr>\n",
       "      <th>9</th>\n",
       "      <td>81800.0</td>\n",
       "      <td>83200.0</td>\n",
       "      <td>72400.0</td>\n",
       "      <td>77200.0</td>\n",
       "      <td>73300.0</td>\n",
       "      <td>75500.0</td>\n",
       "      <td>72800.0</td>\n",
       "      <td>72400.0</td>\n",
       "      <td>68000.0</td>\n",
       "      <td>64200.0</td>\n",
       "      <td>Other_Service</td>\n",
       "    </tr>\n",
       "  </tbody>\n",
       "</table>\n",
       "</div>"
      ],
      "text/plain": [
       "       2018      2017      2016      2015      2014      2013      2012  \\\n",
       "0   41100.0   40200.0   43200.0   40700.0   42700.0   36800.0   36100.0   \n",
       "1  165700.0  165100.0  162500.0  172300.0  173300.0  164200.0  154400.0   \n",
       "2  101800.0   90800.0  102700.0   92600.0   97000.0   89300.0   91300.0   \n",
       "3   85180.0   84190.0   82250.0   82750.0   82240.0   80600.0   78170.0   \n",
       "4   31500.0   58900.0   34400.0   24000.0   35700.0   26900.0   27200.0   \n",
       "5   35500.0   32100.0   31000.0   30800.0   32400.0   32400.0   31100.0   \n",
       "6   25200.0   18200.0   22700.0   19100.0   22200.0   18000.0   18800.0   \n",
       "7   89000.0   82300.0   72000.0   78500.0   64800.0   72500.0   59100.0   \n",
       "8   89600.0   86000.0   83200.0   85600.0   86700.0   89500.0   88100.0   \n",
       "9   81800.0   83200.0   72400.0   77200.0   73300.0   75500.0   72800.0   \n",
       "\n",
       "       2011      2010      2009              Industry  \n",
       "0   36100.0   38200.0   37700.0           Agriculture  \n",
       "1  158600.0  149800.0  156700.0            Production  \n",
       "2   90000.0   93200.0   96600.0          Construction  \n",
       "3   78950.0   78130.0   79090.0                Retail  \n",
       "4   26400.0   27900.0   27800.0                   ICT  \n",
       "5   33200.0   29800.0   33800.0               Finance  \n",
       "6   17600.0   14600.0   13500.0           Real_Estate  \n",
       "7   63900.0   64000.0   64100.0  Professional_Service  \n",
       "8   88700.0   93100.0   92800.0  Public_Adminstration  \n",
       "9   72400.0   68000.0   64200.0         Other_Service  "
      ]
     },
     "execution_count": 141,
     "metadata": {},
     "output_type": "execute_result"
    }
   ],
   "source": [
    "ind = ['Agriculture','Production','Construction','Retail','ICT','Finance',\n",
    "      'Real_Estate','Professional_Service','Public_Adminstration','Other_Service']\n",
    "\n",
    "data['Industry'] = ind\n",
    "data.head(10)"
   ]
  },
  {
   "cell_type": "code",
   "execution_count": 143,
   "metadata": {},
   "outputs": [
    {
     "data": {
      "text/html": [
       "<div>\n",
       "<style scoped>\n",
       "    .dataframe tbody tr th:only-of-type {\n",
       "        vertical-align: middle;\n",
       "    }\n",
       "\n",
       "    .dataframe tbody tr th {\n",
       "        vertical-align: top;\n",
       "    }\n",
       "\n",
       "    .dataframe thead th {\n",
       "        text-align: right;\n",
       "    }\n",
       "</style>\n",
       "<table border=\"1\" class=\"dataframe\">\n",
       "  <thead>\n",
       "    <tr style=\"text-align: right;\">\n",
       "      <th></th>\n",
       "      <th>Industry</th>\n",
       "      <th>2018</th>\n",
       "      <th>2017</th>\n",
       "      <th>2016</th>\n",
       "      <th>2015</th>\n",
       "      <th>2014</th>\n",
       "      <th>2013</th>\n",
       "      <th>2012</th>\n",
       "      <th>2011</th>\n",
       "      <th>2010</th>\n",
       "      <th>2009</th>\n",
       "    </tr>\n",
       "  </thead>\n",
       "  <tbody>\n",
       "    <tr>\n",
       "      <th>0</th>\n",
       "      <td>Agriculture</td>\n",
       "      <td>41100.0</td>\n",
       "      <td>40200.0</td>\n",
       "      <td>43200.0</td>\n",
       "      <td>40700.0</td>\n",
       "      <td>42700.0</td>\n",
       "      <td>36800.0</td>\n",
       "      <td>36100.0</td>\n",
       "      <td>36100.0</td>\n",
       "      <td>38200.0</td>\n",
       "      <td>37700.0</td>\n",
       "    </tr>\n",
       "    <tr>\n",
       "      <th>1</th>\n",
       "      <td>Production</td>\n",
       "      <td>165700.0</td>\n",
       "      <td>165100.0</td>\n",
       "      <td>162500.0</td>\n",
       "      <td>172300.0</td>\n",
       "      <td>173300.0</td>\n",
       "      <td>164200.0</td>\n",
       "      <td>154400.0</td>\n",
       "      <td>158600.0</td>\n",
       "      <td>149800.0</td>\n",
       "      <td>156700.0</td>\n",
       "    </tr>\n",
       "    <tr>\n",
       "      <th>2</th>\n",
       "      <td>Construction</td>\n",
       "      <td>101800.0</td>\n",
       "      <td>90800.0</td>\n",
       "      <td>102700.0</td>\n",
       "      <td>92600.0</td>\n",
       "      <td>97000.0</td>\n",
       "      <td>89300.0</td>\n",
       "      <td>91300.0</td>\n",
       "      <td>90000.0</td>\n",
       "      <td>93200.0</td>\n",
       "      <td>96600.0</td>\n",
       "    </tr>\n",
       "    <tr>\n",
       "      <th>3</th>\n",
       "      <td>Retail</td>\n",
       "      <td>85180.0</td>\n",
       "      <td>84190.0</td>\n",
       "      <td>82250.0</td>\n",
       "      <td>82750.0</td>\n",
       "      <td>82240.0</td>\n",
       "      <td>80600.0</td>\n",
       "      <td>78170.0</td>\n",
       "      <td>78950.0</td>\n",
       "      <td>78130.0</td>\n",
       "      <td>79090.0</td>\n",
       "    </tr>\n",
       "    <tr>\n",
       "      <th>4</th>\n",
       "      <td>ICT</td>\n",
       "      <td>31500.0</td>\n",
       "      <td>58900.0</td>\n",
       "      <td>34400.0</td>\n",
       "      <td>24000.0</td>\n",
       "      <td>35700.0</td>\n",
       "      <td>26900.0</td>\n",
       "      <td>27200.0</td>\n",
       "      <td>26400.0</td>\n",
       "      <td>27900.0</td>\n",
       "      <td>27800.0</td>\n",
       "    </tr>\n",
       "  </tbody>\n",
       "</table>\n",
       "</div>"
      ],
      "text/plain": [
       "       Industry      2018      2017      2016      2015      2014      2013  \\\n",
       "0   Agriculture   41100.0   40200.0   43200.0   40700.0   42700.0   36800.0   \n",
       "1    Production  165700.0  165100.0  162500.0  172300.0  173300.0  164200.0   \n",
       "2  Construction  101800.0   90800.0  102700.0   92600.0   97000.0   89300.0   \n",
       "3        Retail   85180.0   84190.0   82250.0   82750.0   82240.0   80600.0   \n",
       "4           ICT   31500.0   58900.0   34400.0   24000.0   35700.0   26900.0   \n",
       "\n",
       "       2012      2011      2010      2009  \n",
       "0   36100.0   36100.0   38200.0   37700.0  \n",
       "1  154400.0  158600.0  149800.0  156700.0  \n",
       "2   91300.0   90000.0   93200.0   96600.0  \n",
       "3   78170.0   78950.0   78130.0   79090.0  \n",
       "4   27200.0   26400.0   27900.0   27800.0  "
      ]
     },
     "execution_count": 143,
     "metadata": {},
     "output_type": "execute_result"
    }
   ],
   "source": [
    "data = data[['Industry','2018', '2017', '2016', '2015', '2014', '2013', '2012', '2011', '2010',\n",
    "       '2009']]\n",
    "data.head()"
   ]
  },
  {
   "cell_type": "markdown",
   "metadata": {},
   "source": [
    "## Data Analysis"
   ]
  },
  {
   "cell_type": "markdown",
   "metadata": {},
   "source": [
    "### 2.1"
   ]
  },
  {
   "cell_type": "code",
   "execution_count": 11,
   "metadata": {},
   "outputs": [
    {
     "data": {
      "image/png": "[encoded data removed]",
      "text/plain": [
       "<Figure size 1800x1944 with 10 Axes>"
      ]
     },
     "metadata": {
      "needs_background": "light"
     },
     "output_type": "display_data"
    }
   ],
   "source": [
    "plt.figure(figsize=(25,27))\n",
    "p = ['2018', '2017', '2016', '2015', '2014', '2013', '2012',\n",
    "       '2011', '2010', '2009']\n",
    "\n",
    "for i,j in enumerate(p):\n",
    "    plt.subplot(5,2,i+1)\n",
    "    sns.barplot(x=data[j], y=data['Industry'])"
   ]
  },
  {
   "cell_type": "markdown",
   "metadata": {},
   "source": [
    "#### Conclusion\n",
    "\n",
    "- The Production Industry has employed highest workers over the years (2009-2018)\n",
    "- The Real Estate Industry has employed highest workers over the years (2009-2018)"
   ]
  },
  {
   "cell_type": "markdown",
   "metadata": {},
   "source": [
    "### 2.2"
   ]
  },
  {
   "cell_type": "code",
   "execution_count": 171,
   "metadata": {},
   "outputs": [],
   "source": [
    "data_1 = data.copy()\n",
    "\n",
    "data_1['Growth_rate'] = ((data_1['2018'] - data_1['2009']) / data_1['2018'])"
   ]
  },
  {
   "cell_type": "code",
   "execution_count": 172,
   "metadata": {},
   "outputs": [
    {
     "data": {
      "text/html": [
       "<div>\n",
       "<style scoped>\n",
       "    .dataframe tbody tr th:only-of-type {\n",
       "        vertical-align: middle;\n",
       "    }\n",
       "\n",
       "    .dataframe tbody tr th {\n",
       "        vertical-align: top;\n",
       "    }\n",
       "\n",
       "    .dataframe thead th {\n",
       "        text-align: right;\n",
       "    }\n",
       "</style>\n",
       "<table border=\"1\" class=\"dataframe\">\n",
       "  <thead>\n",
       "    <tr style=\"text-align: right;\">\n",
       "      <th></th>\n",
       "      <th>Industry</th>\n",
       "      <th>2018</th>\n",
       "      <th>2017</th>\n",
       "      <th>2016</th>\n",
       "      <th>2015</th>\n",
       "      <th>2014</th>\n",
       "      <th>2013</th>\n",
       "      <th>2012</th>\n",
       "      <th>2011</th>\n",
       "      <th>2010</th>\n",
       "      <th>2009</th>\n",
       "      <th>Growth_rate</th>\n",
       "    </tr>\n",
       "  </thead>\n",
       "  <tbody>\n",
       "    <tr>\n",
       "      <th>0</th>\n",
       "      <td>Agriculture</td>\n",
       "      <td>41100.0</td>\n",
       "      <td>40200.0</td>\n",
       "      <td>43200.0</td>\n",
       "      <td>40700.0</td>\n",
       "      <td>42700.0</td>\n",
       "      <td>36800.0</td>\n",
       "      <td>36100.0</td>\n",
       "      <td>36100.0</td>\n",
       "      <td>38200.0</td>\n",
       "      <td>37700.0</td>\n",
       "      <td>0.082725</td>\n",
       "    </tr>\n",
       "    <tr>\n",
       "      <th>1</th>\n",
       "      <td>Production</td>\n",
       "      <td>165700.0</td>\n",
       "      <td>165100.0</td>\n",
       "      <td>162500.0</td>\n",
       "      <td>172300.0</td>\n",
       "      <td>173300.0</td>\n",
       "      <td>164200.0</td>\n",
       "      <td>154400.0</td>\n",
       "      <td>158600.0</td>\n",
       "      <td>149800.0</td>\n",
       "      <td>156700.0</td>\n",
       "      <td>0.054315</td>\n",
       "    </tr>\n",
       "    <tr>\n",
       "      <th>2</th>\n",
       "      <td>Construction</td>\n",
       "      <td>101800.0</td>\n",
       "      <td>90800.0</td>\n",
       "      <td>102700.0</td>\n",
       "      <td>92600.0</td>\n",
       "      <td>97000.0</td>\n",
       "      <td>89300.0</td>\n",
       "      <td>91300.0</td>\n",
       "      <td>90000.0</td>\n",
       "      <td>93200.0</td>\n",
       "      <td>96600.0</td>\n",
       "      <td>0.051081</td>\n",
       "    </tr>\n",
       "    <tr>\n",
       "      <th>3</th>\n",
       "      <td>Retail</td>\n",
       "      <td>85180.0</td>\n",
       "      <td>84190.0</td>\n",
       "      <td>82250.0</td>\n",
       "      <td>82750.0</td>\n",
       "      <td>82240.0</td>\n",
       "      <td>80600.0</td>\n",
       "      <td>78170.0</td>\n",
       "      <td>78950.0</td>\n",
       "      <td>78130.0</td>\n",
       "      <td>79090.0</td>\n",
       "      <td>0.071496</td>\n",
       "    </tr>\n",
       "    <tr>\n",
       "      <th>4</th>\n",
       "      <td>ICT</td>\n",
       "      <td>31500.0</td>\n",
       "      <td>58900.0</td>\n",
       "      <td>34400.0</td>\n",
       "      <td>24000.0</td>\n",
       "      <td>35700.0</td>\n",
       "      <td>26900.0</td>\n",
       "      <td>27200.0</td>\n",
       "      <td>26400.0</td>\n",
       "      <td>27900.0</td>\n",
       "      <td>27800.0</td>\n",
       "      <td>0.117460</td>\n",
       "    </tr>\n",
       "    <tr>\n",
       "      <th>5</th>\n",
       "      <td>Finance</td>\n",
       "      <td>35500.0</td>\n",
       "      <td>32100.0</td>\n",
       "      <td>31000.0</td>\n",
       "      <td>30800.0</td>\n",
       "      <td>32400.0</td>\n",
       "      <td>32400.0</td>\n",
       "      <td>31100.0</td>\n",
       "      <td>33200.0</td>\n",
       "      <td>29800.0</td>\n",
       "      <td>33800.0</td>\n",
       "      <td>0.047887</td>\n",
       "    </tr>\n",
       "    <tr>\n",
       "      <th>6</th>\n",
       "      <td>Real_Estate</td>\n",
       "      <td>25200.0</td>\n",
       "      <td>18200.0</td>\n",
       "      <td>22700.0</td>\n",
       "      <td>19100.0</td>\n",
       "      <td>22200.0</td>\n",
       "      <td>18000.0</td>\n",
       "      <td>18800.0</td>\n",
       "      <td>17600.0</td>\n",
       "      <td>14600.0</td>\n",
       "      <td>13500.0</td>\n",
       "      <td>0.464286</td>\n",
       "    </tr>\n",
       "    <tr>\n",
       "      <th>7</th>\n",
       "      <td>Professional_Service</td>\n",
       "      <td>89000.0</td>\n",
       "      <td>82300.0</td>\n",
       "      <td>72000.0</td>\n",
       "      <td>78500.0</td>\n",
       "      <td>64800.0</td>\n",
       "      <td>72500.0</td>\n",
       "      <td>59100.0</td>\n",
       "      <td>63900.0</td>\n",
       "      <td>64000.0</td>\n",
       "      <td>64100.0</td>\n",
       "      <td>0.279775</td>\n",
       "    </tr>\n",
       "    <tr>\n",
       "      <th>8</th>\n",
       "      <td>Public_Adminstration</td>\n",
       "      <td>89600.0</td>\n",
       "      <td>86000.0</td>\n",
       "      <td>83200.0</td>\n",
       "      <td>85600.0</td>\n",
       "      <td>86700.0</td>\n",
       "      <td>89500.0</td>\n",
       "      <td>88100.0</td>\n",
       "      <td>88700.0</td>\n",
       "      <td>93100.0</td>\n",
       "      <td>92800.0</td>\n",
       "      <td>-0.035714</td>\n",
       "    </tr>\n",
       "    <tr>\n",
       "      <th>9</th>\n",
       "      <td>Other_Service</td>\n",
       "      <td>81800.0</td>\n",
       "      <td>83200.0</td>\n",
       "      <td>72400.0</td>\n",
       "      <td>77200.0</td>\n",
       "      <td>73300.0</td>\n",
       "      <td>75500.0</td>\n",
       "      <td>72800.0</td>\n",
       "      <td>72400.0</td>\n",
       "      <td>68000.0</td>\n",
       "      <td>64200.0</td>\n",
       "      <td>0.215159</td>\n",
       "    </tr>\n",
       "  </tbody>\n",
       "</table>\n",
       "</div>"
      ],
      "text/plain": [
       "               Industry      2018      2017      2016      2015      2014  \\\n",
       "0           Agriculture   41100.0   40200.0   43200.0   40700.0   42700.0   \n",
       "1            Production  165700.0  165100.0  162500.0  172300.0  173300.0   \n",
       "2          Construction  101800.0   90800.0  102700.0   92600.0   97000.0   \n",
       "3                Retail   85180.0   84190.0   82250.0   82750.0   82240.0   \n",
       "4                   ICT   31500.0   58900.0   34400.0   24000.0   35700.0   \n",
       "5               Finance   35500.0   32100.0   31000.0   30800.0   32400.0   \n",
       "6           Real_Estate   25200.0   18200.0   22700.0   19100.0   22200.0   \n",
       "7  Professional_Service   89000.0   82300.0   72000.0   78500.0   64800.0   \n",
       "8  Public_Adminstration   89600.0   86000.0   83200.0   85600.0   86700.0   \n",
       "9         Other_Service   81800.0   83200.0   72400.0   77200.0   73300.0   \n",
       "\n",
       "       2013      2012      2011      2010      2009  Growth_rate  \n",
       "0   36800.0   36100.0   36100.0   38200.0   37700.0     0.082725  \n",
       "1  164200.0  154400.0  158600.0  149800.0  156700.0     0.054315  \n",
       "2   89300.0   91300.0   90000.0   93200.0   96600.0     0.051081  \n",
       "3   80600.0   78170.0   78950.0   78130.0   79090.0     0.071496  \n",
       "4   26900.0   27200.0   26400.0   27900.0   27800.0     0.117460  \n",
       "5   32400.0   31100.0   33200.0   29800.0   33800.0     0.047887  \n",
       "6   18000.0   18800.0   17600.0   14600.0   13500.0     0.464286  \n",
       "7   72500.0   59100.0   63900.0   64000.0   64100.0     0.279775  \n",
       "8   89500.0   88100.0   88700.0   93100.0   92800.0    -0.035714  \n",
       "9   75500.0   72800.0   72400.0   68000.0   64200.0     0.215159  "
      ]
     },
     "execution_count": 172,
     "metadata": {},
     "output_type": "execute_result"
    }
   ],
   "source": [
    "data_1.head(10)"
   ]
  },
  {
   "cell_type": "code",
   "execution_count": 173,
   "metadata": {},
   "outputs": [
    {
     "data": {
      "text/plain": [
       "<matplotlib.axes._subplots.AxesSubplot at 0x19a1d970048>"
      ]
     },
     "execution_count": 173,
     "metadata": {},
     "output_type": "execute_result"
    },
    {
     "data": {
      "image/png": "[encoded data removed]",
      "text/plain": [
       "<Figure size 1440x576 with 1 Axes>"
      ]
     },
     "metadata": {
      "needs_background": "light"
     },
     "output_type": "display_data"
    }
   ],
   "source": [
    "plt.figure(figsize=(20,8))\n",
    "sns.barplot(x=data_1['Industry'], y=data_1['Growth_rate'])"
   ]
  },
  {
   "cell_type": "markdown",
   "metadata": {},
   "source": [
    "#### Conclusion\n",
    "\n",
    "From this graph\n",
    "\n",
    "- The highest growth is for Real Estate industry\n",
    "- The lowest growth is for Public_Admistration"
   ]
  },
  {
   "cell_type": "markdown",
   "metadata": {},
   "source": [
    "### 2.3"
   ]
  },
  {
   "cell_type": "code",
   "execution_count": 12,
   "metadata": {},
   "outputs": [
    {
     "data": {
      "text/plain": [
       "2018    746380.0\n",
       "2017    740990.0\n",
       "2016    706350.0\n",
       "2015    703550.0\n",
       "2014    710340.0\n",
       "2013    685700.0\n",
       "2012    657070.0\n",
       "2011    665850.0\n",
       "2010    656730.0\n",
       "2009    666290.0\n",
       "dtype: float64"
      ]
     },
     "execution_count": 12,
     "metadata": {},
     "output_type": "execute_result"
    }
   ],
   "source": [
    "data_ = data.copy()\n",
    "data_ = data_.drop(['Industry'],axis=1)\n",
    "sum_employment = data_.sum(axis=0)\n",
    "sum_employment.head(10)"
   ]
  },
  {
   "cell_type": "code",
   "execution_count": 13,
   "metadata": {},
   "outputs": [
    {
     "data": {
      "text/plain": [
       "<matplotlib.axes._subplots.AxesSubplot at 0x19a1a0f9390>"
      ]
     },
     "execution_count": 13,
     "metadata": {},
     "output_type": "execute_result"
    },
    {
     "data": {
      "image/png": "[encoded data removed]",
      "text/plain": [
       "<Figure size 432x288 with 1 Axes>"
      ]
     },
     "metadata": {
      "needs_background": "light"
     },
     "output_type": "display_data"
    }
   ],
   "source": [
    "p = ['2018', '2017', '2016', '2015', '2014', '2013', '2012',\n",
    "       '2011', '2010', '2009']\n",
    "sns.barplot(x=p, y=sum_employment)"
   ]
  },
  {
   "cell_type": "markdown",
   "metadata": {},
   "source": [
    "### Conclusion\n",
    "\n",
    "From this graph\n",
    "\n",
    "- The best performing year is 2018\n",
    "- The Worst performing year is 2012"
   ]
  },
  {
   "cell_type": "markdown",
   "metadata": {},
   "source": [
    "## Visual Analysis"
   ]
  },
  {
   "cell_type": "code",
   "execution_count": 63,
   "metadata": {},
   "outputs": [],
   "source": [
    "import plotly.express as px\n",
    "import plotly.io as pio\n",
    "from plotly.offline import iplot, init_notebook_mode\n",
    "import plotly.graph_objs as go\n"
   ]
  },
  {
   "cell_type": "code",
   "execution_count": 185,
   "metadata": {},
   "outputs": [],
   "source": [
    "change_wor = [(data['2018']-data['2017']).mean(),(data['2017']-data['2016']).mean(),\n",
    "             (data['2016']-data['2015']).mean(),(data['2015']-data['2014']).mean(),\n",
    "             (data['2014']-data['2013']).mean(),(data['2013']-data['2012']).mean(),\n",
    "             (data['2012']-data['2011']).mean(),(data['2011']-data['2010']).mean(),\n",
    "             (data['2010']-data['2009']).mean()]\n"
   ]
  },
  {
   "cell_type": "code",
   "execution_count": 186,
   "metadata": {},
   "outputs": [
    {
     "data": {
      "text/plain": [
       "[539.0, 3464.0, 280.0, -679.0, 2464.0, 2863.0, -878.0, 912.0, -956.0]"
      ]
     },
     "execution_count": 186,
     "metadata": {},
     "output_type": "execute_result"
    }
   ],
   "source": [
    "change_wor"
   ]
  },
  {
   "cell_type": "code",
   "execution_count": 187,
   "metadata": {},
   "outputs": [],
   "source": [
    "years = ['2018-2017','2017-2016','2016-2015','2015-2014',\n",
    "        '2014-2013','2013-2012','2012-2011','2011-2010',\n",
    "        '2010-2009',]"
   ]
  },
  {
   "cell_type": "code",
   "execution_count": 191,
   "metadata": {},
   "outputs": [
    {
     "data": {
      "application/vnd.plotly.v1+json": {
       "config": {
        "linkText": "Export to plot.ly",
        "plotlyServerURL": "https://plot.ly",
        "showLink": false
       },
       "data": [
        {
         "mode": "markers",
         "type": "scatter",
         "x": [
          "2018-2017",
          "2017-2016",
          "2016-2015",
          "2015-2014",
          "2014-2013",
          "2013-2012",
          "2012-2011",
          "2011-2010",
          "2010-2009"
         ],
         "y": [
          539,
          3464,
          280,
          -679,
          2464,
          2863,
          -878,
          912,
          -956
         ]
        }
       ],
       "layout": {
        "template": {
         "data": {
          "bar": [
           {
            "error_x": {
             "color": "#2a3f5f"
            },
            "error_y": {
             "color": "#2a3f5f"
            },
            "marker": {
             "line": {
              "color": "#E5ECF6",
              "width": 0.5
             }
            },
            "type": "bar"
           }
          ],
          "barpolar": [
           {
            "marker": {
             "line": {
              "color": "#E5ECF6",
              "width": 0.5
             }
            },
            "type": "barpolar"
           }
          ],
          "carpet": [
           {
            "aaxis": {
             "endlinecolor": "#2a3f5f",
             "gridcolor": "white",
             "linecolor": "white",
             "minorgridcolor": "white",
             "startlinecolor": "#2a3f5f"
            },
            "baxis": {
             "endlinecolor": "#2a3f5f",
             "gridcolor": "white",
             "linecolor": "white",
             "minorgridcolor": "white",
             "startlinecolor": "#2a3f5f"
            },
            "type": "carpet"
           }
          ],
          "choropleth": [
           {
            "colorbar": {
             "outlinewidth": 0,
             "ticks": ""
            },
            "type": "choropleth"
           }
          ],
          "contour": [
           {
            "colorbar": {
             "outlinewidth": 0,
             "ticks": ""
            },
            "colorscale": [
             [
              0,
              "#0d0887"
             ],
             [
              0.1111111111111111,
              "#46039f"
             ],
             [
              0.2222222222222222,
              "#7201a8"
             ],
             [
              0.3333333333333333,
              "#9c179e"
             ],
             [
              0.4444444444444444,
              "#bd3786"
             ],
             [
              0.5555555555555556,
              "#d8576b"
             ],
             [
              0.6666666666666666,
              "#ed7953"
             ],
             [
              0.7777777777777778,
              "#fb9f3a"
             ],
             [
              0.8888888888888888,
              "#fdca26"
             ],
             [
              1,
              "#f0f921"
             ]
            ],
            "type": "contour"
           }
          ],
          "contourcarpet": [
           {
            "colorbar": {
             "outlinewidth": 0,
             "ticks": ""
            },
            "type": "contourcarpet"
           }
          ],
          "heatmap": [
           {
            "colorbar": {
             "outlinewidth": 0,
             "ticks": ""
            },
            "colorscale": [
             [
              0,
              "#0d0887"
             ],
             [
              0.1111111111111111,
              "#46039f"
             ],
             [
              0.2222222222222222,
              "#7201a8"
             ],
             [
              0.3333333333333333,
              "#9c179e"
             ],
             [
              0.4444444444444444,
              "#bd3786"
             ],
             [
              0.5555555555555556,
              "#d8576b"
             ],
             [
              0.6666666666666666,
              "#ed7953"
             ],
             [
              0.7777777777777778,
              "#fb9f3a"
             ],
             [
              0.8888888888888888,
              "#fdca26"
             ],
             [
              1,
              "#f0f921"
             ]
            ],
            "type": "heatmap"
           }
          ],
          "heatmapgl": [
           {
            "colorbar": {
             "outlinewidth": 0,
             "ticks": ""
            },
            "colorscale": [
             [
              0,
              "#0d0887"
             ],
             [
              0.1111111111111111,
              "#46039f"
             ],
             [
              0.2222222222222222,
              "#7201a8"
             ],
             [
              0.3333333333333333,
              "#9c179e"
             ],
             [
              0.4444444444444444,
              "#bd3786"
             ],
             [
              0.5555555555555556,
              "#d8576b"
             ],
             [
              0.6666666666666666,
              "#ed7953"
             ],
             [
              0.7777777777777778,
              "#fb9f3a"
             ],
             [
              0.8888888888888888,
              "#fdca26"
             ],
             [
              1,
              "#f0f921"
             ]
            ],
            "type": "heatmapgl"
           }
          ],
          "histogram": [
           {
            "marker": {
             "colorbar": {
              "outlinewidth": 0,
              "ticks": ""
             }
            },
            "type": "histogram"
           }
          ],
          "histogram2d": [
           {
            "colorbar": {
             "outlinewidth": 0,
             "ticks": ""
            },
            "colorscale": [
             [
              0,
              "#0d0887"
             ],
             [
              0.1111111111111111,
              "#46039f"
             ],
             [
              0.2222222222222222,
              "#7201a8"
             ],
             [
              0.3333333333333333,
              "#9c179e"
             ],
             [
              0.4444444444444444,
              "#bd3786"
             ],
             [
              0.5555555555555556,
              "#d8576b"
             ],
             [
              0.6666666666666666,
              "#ed7953"
             ],
             [
              0.7777777777777778,
              "#fb9f3a"
             ],
             [
              0.8888888888888888,
              "#fdca26"
             ],
             [
              1,
              "#f0f921"
             ]
            ],
            "type": "histogram2d"
           }
          ],
          "histogram2dcontour": [
           {
            "colorbar": {
             "outlinewidth": 0,
             "ticks": ""
            },
            "colorscale": [
             [
              0,
              "#0d0887"
             ],
             [
              0.1111111111111111,
              "#46039f"
             ],
             [
              0.2222222222222222,
              "#7201a8"
             ],
             [
              0.3333333333333333,
              "#9c179e"
             ],
             [
              0.4444444444444444,
              "#bd3786"
             ],
             [
              0.5555555555555556,
              "#d8576b"
             ],
             [
              0.6666666666666666,
              "#ed7953"
             ],
             [
              0.7777777777777778,
              "#fb9f3a"
             ],
             [
              0.8888888888888888,
              "#fdca26"
             ],
             [
              1,
              "#f0f921"
             ]
            ],
            "type": "histogram2dcontour"
           }
          ],
          "mesh3d": [
           {
            "colorbar": {
             "outlinewidth": 0,
             "ticks": ""
            },
            "type": "mesh3d"
           }
          ],
          "parcoords": [
           {
            "line": {
             "colorbar": {
              "outlinewidth": 0,
              "ticks": ""
             }
            },
            "type": "parcoords"
           }
          ],
          "pie": [
           {
            "automargin": true,
            "type": "pie"
           }
          ],
          "scatter": [
           {
            "marker": {
             "colorbar": {
              "outlinewidth": 0,
              "ticks": ""
             }
            },
            "type": "scatter"
           }
          ],
          "scatter3d": [
           {
            "line": {
             "colorbar": {
              "outlinewidth": 0,
              "ticks": ""
             }
            },
            "marker": {
             "colorbar": {
              "outlinewidth": 0,
              "ticks": ""
             }
            },
            "type": "scatter3d"
           }
          ],
          "scattercarpet": [
           {
            "marker": {
             "colorbar": {
              "outlinewidth": 0,
              "ticks": ""
             }
            },
            "type": "scattercarpet"
           }
          ],
          "scattergeo": [
           {
            "marker": {
             "colorbar": {
              "outlinewidth": 0,
              "ticks": ""
             }
            },
            "type": "scattergeo"
           }
          ],
          "scattergl": [
           {
            "marker": {
             "colorbar": {
              "outlinewidth": 0,
              "ticks": ""
             }
            },
            "type": "scattergl"
           }
          ],
          "scattermapbox": [
           {
            "marker": {
             "colorbar": {
              "outlinewidth": 0,
              "ticks": ""
             }
            },
            "type": "scattermapbox"
           }
          ],
          "scatterpolar": [
           {
            "marker": {
             "colorbar": {
              "outlinewidth": 0,
              "ticks": ""
             }
            },
            "type": "scatterpolar"
           }
          ],
          "scatterpolargl": [
           {
            "marker": {
             "colorbar": {
              "outlinewidth": 0,
              "ticks": ""
             }
            },
            "type": "scatterpolargl"
           }
          ],
          "scatterternary": [
           {
            "marker": {
             "colorbar": {
              "outlinewidth": 0,
              "ticks": ""
             }
            },
            "type": "scatterternary"
           }
          ],
          "surface": [
           {
            "colorbar": {
             "outlinewidth": 0,
             "ticks": ""
            },
            "colorscale": [
             [
              0,
              "#0d0887"
             ],
             [
              0.1111111111111111,
              "#46039f"
             ],
             [
              0.2222222222222222,
              "#7201a8"
             ],
             [
              0.3333333333333333,
              "#9c179e"
             ],
             [
              0.4444444444444444,
              "#bd3786"
             ],
             [
              0.5555555555555556,
              "#d8576b"
             ],
             [
              0.6666666666666666,
              "#ed7953"
             ],
             [
              0.7777777777777778,
              "#fb9f3a"
             ],
             [
              0.8888888888888888,
              "#fdca26"
             ],
             [
              1,
              "#f0f921"
             ]
            ],
            "type": "surface"
           }
          ],
          "table": [
           {
            "cells": {
             "fill": {
              "color": "#EBF0F8"
             },
             "line": {
              "color": "white"
             }
            },
            "header": {
             "fill": {
              "color": "#C8D4E3"
             },
             "line": {
              "color": "white"
             }
            },
            "type": "table"
           }
          ]
         },
         "layout": {
          "annotationdefaults": {
           "arrowcolor": "#2a3f5f",
           "arrowhead": 0,
           "arrowwidth": 1
          },
          "coloraxis": {
           "colorbar": {
            "outlinewidth": 0,
            "ticks": ""
           }
          },
          "colorscale": {
           "diverging": [
            [
             0,
             "#8e0152"
            ],
            [
             0.1,
             "#c51b7d"
            ],
            [
             0.2,
             "#de77ae"
            ],
            [
             0.3,
             "#f1b6da"
            ],
            [
             0.4,
             "#fde0ef"
            ],
            [
             0.5,
             "#f7f7f7"
            ],
            [
             0.6,
             "#e6f5d0"
            ],
            [
             0.7,
             "#b8e186"
            ],
            [
             0.8,
             "#7fbc41"
            ],
            [
             0.9,
             "#4d9221"
            ],
            [
             1,
             "#276419"
            ]
           ],
           "sequential": [
            [
             0,
             "#0d0887"
            ],
            [
             0.1111111111111111,
             "#46039f"
            ],
            [
             0.2222222222222222,
             "#7201a8"
            ],
            [
             0.3333333333333333,
             "#9c179e"
            ],
            [
             0.4444444444444444,
             "#bd3786"
            ],
            [
             0.5555555555555556,
             "#d8576b"
            ],
            [
             0.6666666666666666,
             "#ed7953"
            ],
            [
             0.7777777777777778,
             "#fb9f3a"
            ],
            [
             0.8888888888888888,
             "#fdca26"
            ],
            [
             1,
             "#f0f921"
            ]
           ],
           "sequentialminus": [
            [
             0,
             "#0d0887"
            ],
            [
             0.1111111111111111,
             "#46039f"
            ],
            [
             0.2222222222222222,
             "#7201a8"
            ],
            [
             0.3333333333333333,
             "#9c179e"
            ],
            [
             0.4444444444444444,
             "#bd3786"
            ],
            [
             0.5555555555555556,
             "#d8576b"
            ],
            [
             0.6666666666666666,
             "#ed7953"
            ],
            [
             0.7777777777777778,
             "#fb9f3a"
            ],
            [
             0.8888888888888888,
             "#fdca26"
            ],
            [
             1,
             "#f0f921"
            ]
           ]
          },
          "colorway": [
           "#636efa",
           "#EF553B",
           "#00cc96",
           "#ab63fa",
           "#FFA15A",
           "#19d3f3",
           "#FF6692",
           "#B6E880",
           "#FF97FF",
           "#FECB52"
          ],
          "font": {
           "color": "#2a3f5f"
          },
          "geo": {
           "bgcolor": "white",
           "lakecolor": "white",
           "landcolor": "#E5ECF6",
           "showlakes": true,
           "showland": true,
           "subunitcolor": "white"
          },
          "hoverlabel": {
           "align": "left"
          },
          "hovermode": "closest",
          "mapbox": {
           "style": "light"
          },
          "paper_bgcolor": "white",
          "plot_bgcolor": "#E5ECF6",
          "polar": {
           "angularaxis": {
            "gridcolor": "white",
            "linecolor": "white",
            "ticks": ""
           },
           "bgcolor": "#E5ECF6",
           "radialaxis": {
            "gridcolor": "white",
            "linecolor": "white",
            "ticks": ""
           }
          },
          "scene": {
           "xaxis": {
            "backgroundcolor": "#E5ECF6",
            "gridcolor": "white",
            "gridwidth": 2,
            "linecolor": "white",
            "showbackground": true,
            "ticks": "",
            "zerolinecolor": "white"
           },
           "yaxis": {
            "backgroundcolor": "#E5ECF6",
            "gridcolor": "white",
            "gridwidth": 2,
            "linecolor": "white",
            "showbackground": true,
            "ticks": "",
            "zerolinecolor": "white"
           },
           "zaxis": {
            "backgroundcolor": "#E5ECF6",
            "gridcolor": "white",
            "gridwidth": 2,
            "linecolor": "white",
            "showbackground": true,
            "ticks": "",
            "zerolinecolor": "white"
           }
          },
          "shapedefaults": {
           "line": {
            "color": "#2a3f5f"
           }
          },
          "ternary": {
           "aaxis": {
            "gridcolor": "white",
            "linecolor": "white",
            "ticks": ""
           },
           "baxis": {
            "gridcolor": "white",
            "linecolor": "white",
            "ticks": ""
           },
           "bgcolor": "#E5ECF6",
           "caxis": {
            "gridcolor": "white",
            "linecolor": "white",
            "ticks": ""
           }
          },
          "title": {
           "x": 0.05
          },
          "xaxis": {
           "automargin": true,
           "gridcolor": "white",
           "linecolor": "white",
           "ticks": "",
           "title": {
            "standoff": 15
           },
           "zerolinecolor": "white",
           "zerolinewidth": 2
          },
          "yaxis": {
           "automargin": true,
           "gridcolor": "white",
           "linecolor": "white",
           "ticks": "",
           "title": {
            "standoff": 15
           },
           "zerolinecolor": "white",
           "zerolinewidth": 2
          }
         }
        }
       }
      },
      "text/html": [
       "<div>\n",
       "        \n",
       "        \n",
       "            <div id=\"f8ea4ab8-e712-4a05-ab37-84d5b9840490\" class=\"plotly-graph-div\" style=\"height:525px; width:100%;\"></div>\n",
       "            <script type=\"text/javascript\">\n",
       "                require([\"plotly\"], function(Plotly) {\n",
       "                    window.PLOTLYENV=window.PLOTLYENV || {};\n",
       "                    \n",
       "                if (document.getElementById(\"f8ea4ab8-e712-4a05-ab37-84d5b9840490\")) {\n",
       "                    Plotly.newPlot(\n",
       "                        'f8ea4ab8-e712-4a05-ab37-84d5b9840490',\n",
       "                        [{\"mode\": \"markers\", \"type\": \"scatter\", \"x\": [\"2018-2017\", \"2017-2016\", \"2016-2015\", \"2015-2014\", \"2014-2013\", \"2013-2012\", \"2012-2011\", \"2011-2010\", \"2010-2009\"], \"y\": [539.0, 3464.0, 280.0, -679.0, 2464.0, 2863.0, -878.0, 912.0, -956.0]}],\n",
       "                        {\"template\": {\"data\": {\"bar\": [{\"error_x\": {\"color\": \"#2a3f5f\"}, \"error_y\": {\"color\": \"#2a3f5f\"}, \"marker\": {\"line\": {\"color\": \"#E5ECF6\", \"width\": 0.5}}, \"type\": \"bar\"}], \"barpolar\": [{\"marker\": {\"line\": {\"color\": \"#E5ECF6\", \"width\": 0.5}}, \"type\": \"barpolar\"}], \"carpet\": [{\"aaxis\": {\"endlinecolor\": \"#2a3f5f\", \"gridcolor\": \"white\", \"linecolor\": \"white\", \"minorgridcolor\": \"white\", \"startlinecolor\": \"#2a3f5f\"}, \"baxis\": {\"endlinecolor\": \"#2a3f5f\", \"gridcolor\": \"white\", \"linecolor\": \"white\", \"minorgridcolor\": \"white\", \"startlinecolor\": \"#2a3f5f\"}, \"type\": \"carpet\"}], \"choropleth\": [{\"colorbar\": {\"outlinewidth\": 0, \"ticks\": \"\"}, \"type\": \"choropleth\"}], \"contour\": [{\"colorbar\": {\"outlinewidth\": 0, \"ticks\": \"\"}, \"colorscale\": [[0.0, \"#0d0887\"], [0.1111111111111111, \"#46039f\"], [0.2222222222222222, \"#7201a8\"], [0.3333333333333333, \"#9c179e\"], [0.4444444444444444, \"#bd3786\"], [0.5555555555555556, \"#d8576b\"], [0.6666666666666666, \"#ed7953\"], [0.7777777777777778, \"#fb9f3a\"], [0.8888888888888888, \"#fdca26\"], [1.0, \"#f0f921\"]], \"type\": \"contour\"}], \"contourcarpet\": [{\"colorbar\": {\"outlinewidth\": 0, \"ticks\": \"\"}, \"type\": \"contourcarpet\"}], \"heatmap\": [{\"colorbar\": {\"outlinewidth\": 0, \"ticks\": \"\"}, \"colorscale\": [[0.0, \"#0d0887\"], [0.1111111111111111, \"#46039f\"], [0.2222222222222222, \"#7201a8\"], [0.3333333333333333, \"#9c179e\"], [0.4444444444444444, \"#bd3786\"], [0.5555555555555556, \"#d8576b\"], [0.6666666666666666, \"#ed7953\"], [0.7777777777777778, \"#fb9f3a\"], [0.8888888888888888, \"#fdca26\"], [1.0, \"#f0f921\"]], \"type\": \"heatmap\"}], \"heatmapgl\": [{\"colorbar\": {\"outlinewidth\": 0, \"ticks\": \"\"}, \"colorscale\": [[0.0, \"#0d0887\"], [0.1111111111111111, \"#46039f\"], [0.2222222222222222, \"#7201a8\"], [0.3333333333333333, \"#9c179e\"], [0.4444444444444444, \"#bd3786\"], [0.5555555555555556, \"#d8576b\"], [0.6666666666666666, \"#ed7953\"], [0.7777777777777778, \"#fb9f3a\"], [0.8888888888888888, \"#fdca26\"], [1.0, \"#f0f921\"]], \"type\": \"heatmapgl\"}], \"histogram\": [{\"marker\": {\"colorbar\": {\"outlinewidth\": 0, \"ticks\": \"\"}}, \"type\": \"histogram\"}], \"histogram2d\": [{\"colorbar\": {\"outlinewidth\": 0, \"ticks\": \"\"}, \"colorscale\": [[0.0, \"#0d0887\"], [0.1111111111111111, \"#46039f\"], [0.2222222222222222, \"#7201a8\"], [0.3333333333333333, \"#9c179e\"], [0.4444444444444444, \"#bd3786\"], [0.5555555555555556, \"#d8576b\"], [0.6666666666666666, \"#ed7953\"], [0.7777777777777778, \"#fb9f3a\"], [0.8888888888888888, \"#fdca26\"], [1.0, \"#f0f921\"]], \"type\": \"histogram2d\"}], \"histogram2dcontour\": [{\"colorbar\": {\"outlinewidth\": 0, \"ticks\": \"\"}, \"colorscale\": [[0.0, \"#0d0887\"], [0.1111111111111111, \"#46039f\"], [0.2222222222222222, \"#7201a8\"], [0.3333333333333333, \"#9c179e\"], [0.4444444444444444, \"#bd3786\"], [0.5555555555555556, \"#d8576b\"], [0.6666666666666666, \"#ed7953\"], [0.7777777777777778, \"#fb9f3a\"], [0.8888888888888888, \"#fdca26\"], [1.0, \"#f0f921\"]], \"type\": \"histogram2dcontour\"}], \"mesh3d\": [{\"colorbar\": {\"outlinewidth\": 0, \"ticks\": \"\"}, \"type\": \"mesh3d\"}], \"parcoords\": [{\"line\": {\"colorbar\": {\"outlinewidth\": 0, \"ticks\": \"\"}}, \"type\": \"parcoords\"}], \"pie\": [{\"automargin\": true, \"type\": \"pie\"}], \"scatter\": [{\"marker\": {\"colorbar\": {\"outlinewidth\": 0, \"ticks\": \"\"}}, \"type\": \"scatter\"}], \"scatter3d\": [{\"line\": {\"colorbar\": {\"outlinewidth\": 0, \"ticks\": \"\"}}, \"marker\": {\"colorbar\": {\"outlinewidth\": 0, \"ticks\": \"\"}}, \"type\": \"scatter3d\"}], \"scattercarpet\": [{\"marker\": {\"colorbar\": {\"outlinewidth\": 0, \"ticks\": \"\"}}, \"type\": \"scattercarpet\"}], \"scattergeo\": [{\"marker\": {\"colorbar\": {\"outlinewidth\": 0, \"ticks\": \"\"}}, \"type\": \"scattergeo\"}], \"scattergl\": [{\"marker\": {\"colorbar\": {\"outlinewidth\": 0, \"ticks\": \"\"}}, \"type\": \"scattergl\"}], \"scattermapbox\": [{\"marker\": {\"colorbar\": {\"outlinewidth\": 0, \"ticks\": \"\"}}, \"type\": \"scattermapbox\"}], \"scatterpolar\": [{\"marker\": {\"colorbar\": {\"outlinewidth\": 0, \"ticks\": \"\"}}, \"type\": \"scatterpolar\"}], \"scatterpolargl\": [{\"marker\": {\"colorbar\": {\"outlinewidth\": 0, \"ticks\": \"\"}}, \"type\": \"scatterpolargl\"}], \"scatterternary\": [{\"marker\": {\"colorbar\": {\"outlinewidth\": 0, \"ticks\": \"\"}}, \"type\": \"scatterternary\"}], \"surface\": [{\"colorbar\": {\"outlinewidth\": 0, \"ticks\": \"\"}, \"colorscale\": [[0.0, \"#0d0887\"], [0.1111111111111111, \"#46039f\"], [0.2222222222222222, \"#7201a8\"], [0.3333333333333333, \"#9c179e\"], [0.4444444444444444, \"#bd3786\"], [0.5555555555555556, \"#d8576b\"], [0.6666666666666666, \"#ed7953\"], [0.7777777777777778, \"#fb9f3a\"], [0.8888888888888888, \"#fdca26\"], [1.0, \"#f0f921\"]], \"type\": \"surface\"}], \"table\": [{\"cells\": {\"fill\": {\"color\": \"#EBF0F8\"}, \"line\": {\"color\": \"white\"}}, \"header\": {\"fill\": {\"color\": \"#C8D4E3\"}, \"line\": {\"color\": \"white\"}}, \"type\": \"table\"}]}, \"layout\": {\"annotationdefaults\": {\"arrowcolor\": \"#2a3f5f\", \"arrowhead\": 0, \"arrowwidth\": 1}, \"coloraxis\": {\"colorbar\": {\"outlinewidth\": 0, \"ticks\": \"\"}}, \"colorscale\": {\"diverging\": [[0, \"#8e0152\"], [0.1, \"#c51b7d\"], [0.2, \"#de77ae\"], [0.3, \"#f1b6da\"], [0.4, \"#fde0ef\"], [0.5, \"#f7f7f7\"], [0.6, \"#e6f5d0\"], [0.7, \"#b8e186\"], [0.8, \"#7fbc41\"], [0.9, \"#4d9221\"], [1, \"#276419\"]], \"sequential\": [[0.0, \"#0d0887\"], [0.1111111111111111, \"#46039f\"], [0.2222222222222222, \"#7201a8\"], [0.3333333333333333, \"#9c179e\"], [0.4444444444444444, \"#bd3786\"], [0.5555555555555556, \"#d8576b\"], [0.6666666666666666, \"#ed7953\"], [0.7777777777777778, \"#fb9f3a\"], [0.8888888888888888, \"#fdca26\"], [1.0, \"#f0f921\"]], \"sequentialminus\": [[0.0, \"#0d0887\"], [0.1111111111111111, \"#46039f\"], [0.2222222222222222, \"#7201a8\"], [0.3333333333333333, \"#9c179e\"], [0.4444444444444444, \"#bd3786\"], [0.5555555555555556, \"#d8576b\"], [0.6666666666666666, \"#ed7953\"], [0.7777777777777778, \"#fb9f3a\"], [0.8888888888888888, \"#fdca26\"], [1.0, \"#f0f921\"]]}, \"colorway\": [\"#636efa\", \"#EF553B\", \"#00cc96\", \"#ab63fa\", \"#FFA15A\", \"#19d3f3\", \"#FF6692\", \"#B6E880\", \"#FF97FF\", \"#FECB52\"], \"font\": {\"color\": \"#2a3f5f\"}, \"geo\": {\"bgcolor\": \"white\", \"lakecolor\": \"white\", \"landcolor\": \"#E5ECF6\", \"showlakes\": true, \"showland\": true, \"subunitcolor\": \"white\"}, \"hoverlabel\": {\"align\": \"left\"}, \"hovermode\": \"closest\", \"mapbox\": {\"style\": \"light\"}, \"paper_bgcolor\": \"white\", \"plot_bgcolor\": \"#E5ECF6\", \"polar\": {\"angularaxis\": {\"gridcolor\": \"white\", \"linecolor\": \"white\", \"ticks\": \"\"}, \"bgcolor\": \"#E5ECF6\", \"radialaxis\": {\"gridcolor\": \"white\", \"linecolor\": \"white\", \"ticks\": \"\"}}, \"scene\": {\"xaxis\": {\"backgroundcolor\": \"#E5ECF6\", \"gridcolor\": \"white\", \"gridwidth\": 2, \"linecolor\": \"white\", \"showbackground\": true, \"ticks\": \"\", \"zerolinecolor\": \"white\"}, \"yaxis\": {\"backgroundcolor\": \"#E5ECF6\", \"gridcolor\": \"white\", \"gridwidth\": 2, \"linecolor\": \"white\", \"showbackground\": true, \"ticks\": \"\", \"zerolinecolor\": \"white\"}, \"zaxis\": {\"backgroundcolor\": \"#E5ECF6\", \"gridcolor\": \"white\", \"gridwidth\": 2, \"linecolor\": \"white\", \"showbackground\": true, \"ticks\": \"\", \"zerolinecolor\": \"white\"}}, \"shapedefaults\": {\"line\": {\"color\": \"#2a3f5f\"}}, \"ternary\": {\"aaxis\": {\"gridcolor\": \"white\", \"linecolor\": \"white\", \"ticks\": \"\"}, \"baxis\": {\"gridcolor\": \"white\", \"linecolor\": \"white\", \"ticks\": \"\"}, \"bgcolor\": \"#E5ECF6\", \"caxis\": {\"gridcolor\": \"white\", \"linecolor\": \"white\", \"ticks\": \"\"}}, \"title\": {\"x\": 0.05}, \"xaxis\": {\"automargin\": true, \"gridcolor\": \"white\", \"linecolor\": \"white\", \"ticks\": \"\", \"title\": {\"standoff\": 15}, \"zerolinecolor\": \"white\", \"zerolinewidth\": 2}, \"yaxis\": {\"automargin\": true, \"gridcolor\": \"white\", \"linecolor\": \"white\", \"ticks\": \"\", \"title\": {\"standoff\": 15}, \"zerolinecolor\": \"white\", \"zerolinewidth\": 2}}}},\n",
       "                        {\"responsive\": true}\n",
       "                    ).then(function(){\n",
       "                            \n",
       "var gd = document.getElementById('f8ea4ab8-e712-4a05-ab37-84d5b9840490');\n",
       "var x = new MutationObserver(function (mutations, observer) {{\n",
       "        var display = window.getComputedStyle(gd).display;\n",
       "        if (!display || display === 'none') {{\n",
       "            console.log([gd, 'removed!']);\n",
       "            Plotly.purge(gd);\n",
       "            observer.disconnect();\n",
       "        }}\n",
       "}});\n",
       "\n",
       "// Listen for the removal of the full notebook cells\n",
       "var notebookContainer = gd.closest('#notebook-container');\n",
       "if (notebookContainer) {{\n",
       "    x.observe(notebookContainer, {childList: true});\n",
       "}}\n",
       "\n",
       "// Listen for the clearing of the current output cell\n",
       "var outputEl = gd.closest('.output');\n",
       "if (outputEl) {{\n",
       "    x.observe(outputEl, {childList: true});\n",
       "}}\n",
       "\n",
       "                        })\n",
       "                };\n",
       "                });\n",
       "            </script>\n",
       "        </div>"
      ]
     },
     "metadata": {},
     "output_type": "display_data"
    }
   ],
   "source": [
    "trace = go.Scatter(x=years, y=change_wor,mode ='markers')\n",
    "data = [trace]\n",
    "iplot({'data':data})"
   ]
  },
  {
   "cell_type": "markdown",
   "metadata": {},
   "source": [
    "## Correlation"
   ]
  },
  {
   "cell_type": "markdown",
   "metadata": {},
   "source": [
    "- 4.1"
   ]
  },
  {
   "cell_type": "code",
   "execution_count": 54,
   "metadata": {},
   "outputs": [],
   "source": [
    "from scipy.stats import pearsonr \n",
    "data_2 = data.copy()"
   ]
  },
  {
   "cell_type": "code",
   "execution_count": 55,
   "metadata": {},
   "outputs": [
    {
     "data": {
      "text/html": [
       "<div>\n",
       "<style scoped>\n",
       "    .dataframe tbody tr th:only-of-type {\n",
       "        vertical-align: middle;\n",
       "    }\n",
       "\n",
       "    .dataframe tbody tr th {\n",
       "        vertical-align: top;\n",
       "    }\n",
       "\n",
       "    .dataframe thead th {\n",
       "        text-align: right;\n",
       "    }\n",
       "</style>\n",
       "<table border=\"1\" class=\"dataframe\">\n",
       "  <thead>\n",
       "    <tr style=\"text-align: right;\">\n",
       "      <th></th>\n",
       "      <th>Industry</th>\n",
       "      <th>2018</th>\n",
       "      <th>2017</th>\n",
       "      <th>2016</th>\n",
       "      <th>2015</th>\n",
       "      <th>2014</th>\n",
       "      <th>2013</th>\n",
       "      <th>2012</th>\n",
       "      <th>2011</th>\n",
       "      <th>2010</th>\n",
       "      <th>2009</th>\n",
       "      <th>Avg</th>\n",
       "    </tr>\n",
       "  </thead>\n",
       "  <tbody>\n",
       "    <tr>\n",
       "      <th>0</th>\n",
       "      <td>Agriculture</td>\n",
       "      <td>41100.0</td>\n",
       "      <td>40200.0</td>\n",
       "      <td>43200.0</td>\n",
       "      <td>40700.0</td>\n",
       "      <td>42700.0</td>\n",
       "      <td>36800.0</td>\n",
       "      <td>36100.0</td>\n",
       "      <td>36100.0</td>\n",
       "      <td>38200.0</td>\n",
       "      <td>37700.0</td>\n",
       "      <td>39280.0</td>\n",
       "    </tr>\n",
       "    <tr>\n",
       "      <th>1</th>\n",
       "      <td>Production</td>\n",
       "      <td>165700.0</td>\n",
       "      <td>165100.0</td>\n",
       "      <td>162500.0</td>\n",
       "      <td>172300.0</td>\n",
       "      <td>173300.0</td>\n",
       "      <td>164200.0</td>\n",
       "      <td>154400.0</td>\n",
       "      <td>158600.0</td>\n",
       "      <td>149800.0</td>\n",
       "      <td>156700.0</td>\n",
       "      <td>162260.0</td>\n",
       "    </tr>\n",
       "    <tr>\n",
       "      <th>2</th>\n",
       "      <td>Construction</td>\n",
       "      <td>101800.0</td>\n",
       "      <td>90800.0</td>\n",
       "      <td>102700.0</td>\n",
       "      <td>92600.0</td>\n",
       "      <td>97000.0</td>\n",
       "      <td>89300.0</td>\n",
       "      <td>91300.0</td>\n",
       "      <td>90000.0</td>\n",
       "      <td>93200.0</td>\n",
       "      <td>96600.0</td>\n",
       "      <td>94530.0</td>\n",
       "    </tr>\n",
       "    <tr>\n",
       "      <th>3</th>\n",
       "      <td>Retail</td>\n",
       "      <td>85180.0</td>\n",
       "      <td>84190.0</td>\n",
       "      <td>82250.0</td>\n",
       "      <td>82750.0</td>\n",
       "      <td>82240.0</td>\n",
       "      <td>80600.0</td>\n",
       "      <td>78170.0</td>\n",
       "      <td>78950.0</td>\n",
       "      <td>78130.0</td>\n",
       "      <td>79090.0</td>\n",
       "      <td>81155.0</td>\n",
       "    </tr>\n",
       "    <tr>\n",
       "      <th>4</th>\n",
       "      <td>ICT</td>\n",
       "      <td>31500.0</td>\n",
       "      <td>58900.0</td>\n",
       "      <td>34400.0</td>\n",
       "      <td>24000.0</td>\n",
       "      <td>35700.0</td>\n",
       "      <td>26900.0</td>\n",
       "      <td>27200.0</td>\n",
       "      <td>26400.0</td>\n",
       "      <td>27900.0</td>\n",
       "      <td>27800.0</td>\n",
       "      <td>32070.0</td>\n",
       "    </tr>\n",
       "    <tr>\n",
       "      <th>5</th>\n",
       "      <td>Finance</td>\n",
       "      <td>35500.0</td>\n",
       "      <td>32100.0</td>\n",
       "      <td>31000.0</td>\n",
       "      <td>30800.0</td>\n",
       "      <td>32400.0</td>\n",
       "      <td>32400.0</td>\n",
       "      <td>31100.0</td>\n",
       "      <td>33200.0</td>\n",
       "      <td>29800.0</td>\n",
       "      <td>33800.0</td>\n",
       "      <td>32210.0</td>\n",
       "    </tr>\n",
       "    <tr>\n",
       "      <th>6</th>\n",
       "      <td>Real_Estate</td>\n",
       "      <td>25200.0</td>\n",
       "      <td>18200.0</td>\n",
       "      <td>22700.0</td>\n",
       "      <td>19100.0</td>\n",
       "      <td>22200.0</td>\n",
       "      <td>18000.0</td>\n",
       "      <td>18800.0</td>\n",
       "      <td>17600.0</td>\n",
       "      <td>14600.0</td>\n",
       "      <td>13500.0</td>\n",
       "      <td>18990.0</td>\n",
       "    </tr>\n",
       "    <tr>\n",
       "      <th>7</th>\n",
       "      <td>Professional_Service</td>\n",
       "      <td>89000.0</td>\n",
       "      <td>82300.0</td>\n",
       "      <td>72000.0</td>\n",
       "      <td>78500.0</td>\n",
       "      <td>64800.0</td>\n",
       "      <td>72500.0</td>\n",
       "      <td>59100.0</td>\n",
       "      <td>63900.0</td>\n",
       "      <td>64000.0</td>\n",
       "      <td>64100.0</td>\n",
       "      <td>71020.0</td>\n",
       "    </tr>\n",
       "    <tr>\n",
       "      <th>8</th>\n",
       "      <td>Public_Adminstration</td>\n",
       "      <td>89600.0</td>\n",
       "      <td>86000.0</td>\n",
       "      <td>83200.0</td>\n",
       "      <td>85600.0</td>\n",
       "      <td>86700.0</td>\n",
       "      <td>89500.0</td>\n",
       "      <td>88100.0</td>\n",
       "      <td>88700.0</td>\n",
       "      <td>93100.0</td>\n",
       "      <td>92800.0</td>\n",
       "      <td>88330.0</td>\n",
       "    </tr>\n",
       "    <tr>\n",
       "      <th>9</th>\n",
       "      <td>Other_Service</td>\n",
       "      <td>81800.0</td>\n",
       "      <td>83200.0</td>\n",
       "      <td>72400.0</td>\n",
       "      <td>77200.0</td>\n",
       "      <td>73300.0</td>\n",
       "      <td>75500.0</td>\n",
       "      <td>72800.0</td>\n",
       "      <td>72400.0</td>\n",
       "      <td>68000.0</td>\n",
       "      <td>64200.0</td>\n",
       "      <td>74080.0</td>\n",
       "    </tr>\n",
       "  </tbody>\n",
       "</table>\n",
       "</div>"
      ],
      "text/plain": [
       "               Industry      2018      2017      2016      2015      2014  \\\n",
       "0           Agriculture   41100.0   40200.0   43200.0   40700.0   42700.0   \n",
       "1            Production  165700.0  165100.0  162500.0  172300.0  173300.0   \n",
       "2          Construction  101800.0   90800.0  102700.0   92600.0   97000.0   \n",
       "3                Retail   85180.0   84190.0   82250.0   82750.0   82240.0   \n",
       "4                   ICT   31500.0   58900.0   34400.0   24000.0   35700.0   \n",
       "5               Finance   35500.0   32100.0   31000.0   30800.0   32400.0   \n",
       "6           Real_Estate   25200.0   18200.0   22700.0   19100.0   22200.0   \n",
       "7  Professional_Service   89000.0   82300.0   72000.0   78500.0   64800.0   \n",
       "8  Public_Adminstration   89600.0   86000.0   83200.0   85600.0   86700.0   \n",
       "9         Other_Service   81800.0   83200.0   72400.0   77200.0   73300.0   \n",
       "\n",
       "       2013      2012      2011      2010      2009       Avg  \n",
       "0   36800.0   36100.0   36100.0   38200.0   37700.0   39280.0  \n",
       "1  164200.0  154400.0  158600.0  149800.0  156700.0  162260.0  \n",
       "2   89300.0   91300.0   90000.0   93200.0   96600.0   94530.0  \n",
       "3   80600.0   78170.0   78950.0   78130.0   79090.0   81155.0  \n",
       "4   26900.0   27200.0   26400.0   27900.0   27800.0   32070.0  \n",
       "5   32400.0   31100.0   33200.0   29800.0   33800.0   32210.0  \n",
       "6   18000.0   18800.0   17600.0   14600.0   13500.0   18990.0  \n",
       "7   72500.0   59100.0   63900.0   64000.0   64100.0   71020.0  \n",
       "8   89500.0   88100.0   88700.0   93100.0   92800.0   88330.0  \n",
       "9   75500.0   72800.0   72400.0   68000.0   64200.0   74080.0  "
      ]
     },
     "execution_count": 55,
     "metadata": {},
     "output_type": "execute_result"
    }
   ],
   "source": [
    "data_2['Avg'] = data_2.mean(axis=1)\n",
    "data_2.head(10)"
   ]
  },
  {
   "cell_type": "code",
   "execution_count": 56,
   "metadata": {},
   "outputs": [
    {
     "data": {
      "text/plain": [
       "Index(['Industry', '2018', '2017', '2016', '2015', '2014', '2013', '2012',\n",
       "       '2011', '2010', '2009', 'Avg'],\n",
       "      dtype='object')"
      ]
     },
     "execution_count": 56,
     "metadata": {},
     "output_type": "execute_result"
    }
   ],
   "source": [
    "data_2.columns"
   ]
  },
  {
   "cell_type": "code",
   "execution_count": 57,
   "metadata": {},
   "outputs": [],
   "source": [
    "data_2 = data_2.drop(['2018', '2017', '2016', '2015', '2014', '2013', '2012',\n",
    "       '2011', '2010', '2009'], axis=1)"
   ]
  },
  {
   "cell_type": "code",
   "execution_count": 58,
   "metadata": {},
   "outputs": [
    {
     "data": {
      "text/html": [
       "<div>\n",
       "<style scoped>\n",
       "    .dataframe tbody tr th:only-of-type {\n",
       "        vertical-align: middle;\n",
       "    }\n",
       "\n",
       "    .dataframe tbody tr th {\n",
       "        vertical-align: top;\n",
       "    }\n",
       "\n",
       "    .dataframe thead th {\n",
       "        text-align: right;\n",
       "    }\n",
       "</style>\n",
       "<table border=\"1\" class=\"dataframe\">\n",
       "  <thead>\n",
       "    <tr style=\"text-align: right;\">\n",
       "      <th></th>\n",
       "      <th>Industry</th>\n",
       "      <th>Avg</th>\n",
       "    </tr>\n",
       "  </thead>\n",
       "  <tbody>\n",
       "    <tr>\n",
       "      <th>0</th>\n",
       "      <td>Agriculture</td>\n",
       "      <td>39280.0</td>\n",
       "    </tr>\n",
       "    <tr>\n",
       "      <th>1</th>\n",
       "      <td>Production</td>\n",
       "      <td>162260.0</td>\n",
       "    </tr>\n",
       "    <tr>\n",
       "      <th>2</th>\n",
       "      <td>Construction</td>\n",
       "      <td>94530.0</td>\n",
       "    </tr>\n",
       "    <tr>\n",
       "      <th>3</th>\n",
       "      <td>Retail</td>\n",
       "      <td>81155.0</td>\n",
       "    </tr>\n",
       "    <tr>\n",
       "      <th>4</th>\n",
       "      <td>ICT</td>\n",
       "      <td>32070.0</td>\n",
       "    </tr>\n",
       "  </tbody>\n",
       "</table>\n",
       "</div>"
      ],
      "text/plain": [
       "       Industry       Avg\n",
       "0   Agriculture   39280.0\n",
       "1    Production  162260.0\n",
       "2  Construction   94530.0\n",
       "3        Retail   81155.0\n",
       "4           ICT   32070.0"
      ]
     },
     "execution_count": 58,
     "metadata": {},
     "output_type": "execute_result"
    }
   ],
   "source": [
    "data_2.head()"
   ]
  },
  {
   "cell_type": "code",
   "execution_count": 59,
   "metadata": {},
   "outputs": [],
   "source": [
    "data_dummy = pd.get_dummies(data_2['Industry'])\n",
    "data_3 = pd.concat([data_dummy, data_2['Avg']], axis=1)"
   ]
  },
  {
   "cell_type": "code",
   "execution_count": 61,
   "metadata": {},
   "outputs": [
    {
     "data": {
      "text/html": [
       "<div>\n",
       "<style scoped>\n",
       "    .dataframe tbody tr th:only-of-type {\n",
       "        vertical-align: middle;\n",
       "    }\n",
       "\n",
       "    .dataframe tbody tr th {\n",
       "        vertical-align: top;\n",
       "    }\n",
       "\n",
       "    .dataframe thead th {\n",
       "        text-align: right;\n",
       "    }\n",
       "</style>\n",
       "<table border=\"1\" class=\"dataframe\">\n",
       "  <thead>\n",
       "    <tr style=\"text-align: right;\">\n",
       "      <th></th>\n",
       "      <th>Agriculture</th>\n",
       "      <th>Construction</th>\n",
       "      <th>Finance</th>\n",
       "      <th>ICT</th>\n",
       "      <th>Other_Service</th>\n",
       "      <th>Production</th>\n",
       "      <th>Professional_Service</th>\n",
       "      <th>Public_Adminstration</th>\n",
       "      <th>Real_Estate</th>\n",
       "      <th>Retail</th>\n",
       "      <th>Avg</th>\n",
       "    </tr>\n",
       "  </thead>\n",
       "  <tbody>\n",
       "    <tr>\n",
       "      <th>Agriculture</th>\n",
       "      <td>1.000000</td>\n",
       "      <td>-0.111111</td>\n",
       "      <td>-0.111111</td>\n",
       "      <td>-0.111111</td>\n",
       "      <td>-0.111111</td>\n",
       "      <td>-0.111111</td>\n",
       "      <td>-0.111111</td>\n",
       "      <td>-0.111111</td>\n",
       "      <td>-0.111111</td>\n",
       "      <td>-0.111111</td>\n",
       "      <td>-0.250933</td>\n",
       "    </tr>\n",
       "    <tr>\n",
       "      <th>Construction</th>\n",
       "      <td>-0.111111</td>\n",
       "      <td>1.000000</td>\n",
       "      <td>-0.111111</td>\n",
       "      <td>-0.111111</td>\n",
       "      <td>-0.111111</td>\n",
       "      <td>-0.111111</td>\n",
       "      <td>-0.111111</td>\n",
       "      <td>-0.111111</td>\n",
       "      <td>-0.111111</td>\n",
       "      <td>-0.111111</td>\n",
       "      <td>0.209476</td>\n",
       "    </tr>\n",
       "    <tr>\n",
       "      <th>Finance</th>\n",
       "      <td>-0.111111</td>\n",
       "      <td>-0.111111</td>\n",
       "      <td>1.000000</td>\n",
       "      <td>-0.111111</td>\n",
       "      <td>-0.111111</td>\n",
       "      <td>-0.111111</td>\n",
       "      <td>-0.111111</td>\n",
       "      <td>-0.111111</td>\n",
       "      <td>-0.111111</td>\n",
       "      <td>-0.111111</td>\n",
       "      <td>-0.309849</td>\n",
       "    </tr>\n",
       "    <tr>\n",
       "      <th>ICT</th>\n",
       "      <td>-0.111111</td>\n",
       "      <td>-0.111111</td>\n",
       "      <td>-0.111111</td>\n",
       "      <td>1.000000</td>\n",
       "      <td>-0.111111</td>\n",
       "      <td>-0.111111</td>\n",
       "      <td>-0.111111</td>\n",
       "      <td>-0.111111</td>\n",
       "      <td>-0.111111</td>\n",
       "      <td>-0.111111</td>\n",
       "      <td>-0.311015</td>\n",
       "    </tr>\n",
       "    <tr>\n",
       "      <th>Other_Service</th>\n",
       "      <td>-0.111111</td>\n",
       "      <td>-0.111111</td>\n",
       "      <td>-0.111111</td>\n",
       "      <td>-0.111111</td>\n",
       "      <td>1.000000</td>\n",
       "      <td>-0.111111</td>\n",
       "      <td>-0.111111</td>\n",
       "      <td>-0.111111</td>\n",
       "      <td>-0.111111</td>\n",
       "      <td>-0.111111</td>\n",
       "      <td>0.039062</td>\n",
       "    </tr>\n",
       "    <tr>\n",
       "      <th>Production</th>\n",
       "      <td>-0.111111</td>\n",
       "      <td>-0.111111</td>\n",
       "      <td>-0.111111</td>\n",
       "      <td>-0.111111</td>\n",
       "      <td>-0.111111</td>\n",
       "      <td>1.000000</td>\n",
       "      <td>-0.111111</td>\n",
       "      <td>-0.111111</td>\n",
       "      <td>-0.111111</td>\n",
       "      <td>-0.111111</td>\n",
       "      <td>0.773882</td>\n",
       "    </tr>\n",
       "    <tr>\n",
       "      <th>Professional_Service</th>\n",
       "      <td>-0.111111</td>\n",
       "      <td>-0.111111</td>\n",
       "      <td>-0.111111</td>\n",
       "      <td>-0.111111</td>\n",
       "      <td>-0.111111</td>\n",
       "      <td>-0.111111</td>\n",
       "      <td>1.000000</td>\n",
       "      <td>-0.111111</td>\n",
       "      <td>-0.111111</td>\n",
       "      <td>-0.111111</td>\n",
       "      <td>0.013562</td>\n",
       "    </tr>\n",
       "    <tr>\n",
       "      <th>Public_Adminstration</th>\n",
       "      <td>-0.111111</td>\n",
       "      <td>-0.111111</td>\n",
       "      <td>-0.111111</td>\n",
       "      <td>-0.111111</td>\n",
       "      <td>-0.111111</td>\n",
       "      <td>-0.111111</td>\n",
       "      <td>-0.111111</td>\n",
       "      <td>1.000000</td>\n",
       "      <td>-0.111111</td>\n",
       "      <td>-0.111111</td>\n",
       "      <td>0.157810</td>\n",
       "    </tr>\n",
       "    <tr>\n",
       "      <th>Real_Estate</th>\n",
       "      <td>-0.111111</td>\n",
       "      <td>-0.111111</td>\n",
       "      <td>-0.111111</td>\n",
       "      <td>-0.111111</td>\n",
       "      <td>-0.111111</td>\n",
       "      <td>-0.111111</td>\n",
       "      <td>-0.111111</td>\n",
       "      <td>-0.111111</td>\n",
       "      <td>1.000000</td>\n",
       "      <td>-0.111111</td>\n",
       "      <td>-0.420014</td>\n",
       "    </tr>\n",
       "    <tr>\n",
       "      <th>Retail</th>\n",
       "      <td>-0.111111</td>\n",
       "      <td>-0.111111</td>\n",
       "      <td>-0.111111</td>\n",
       "      <td>-0.111111</td>\n",
       "      <td>-0.111111</td>\n",
       "      <td>-0.111111</td>\n",
       "      <td>-0.111111</td>\n",
       "      <td>-0.111111</td>\n",
       "      <td>-0.111111</td>\n",
       "      <td>1.000000</td>\n",
       "      <td>0.098019</td>\n",
       "    </tr>\n",
       "    <tr>\n",
       "      <th>Avg</th>\n",
       "      <td>-0.250933</td>\n",
       "      <td>0.209476</td>\n",
       "      <td>-0.309849</td>\n",
       "      <td>-0.311015</td>\n",
       "      <td>0.039062</td>\n",
       "      <td>0.773882</td>\n",
       "      <td>0.013562</td>\n",
       "      <td>0.157810</td>\n",
       "      <td>-0.420014</td>\n",
       "      <td>0.098019</td>\n",
       "      <td>1.000000</td>\n",
       "    </tr>\n",
       "  </tbody>\n",
       "</table>\n",
       "</div>"
      ],
      "text/plain": [
       "                      Agriculture  Construction   Finance       ICT  \\\n",
       "Agriculture              1.000000     -0.111111 -0.111111 -0.111111   \n",
       "Construction            -0.111111      1.000000 -0.111111 -0.111111   \n",
       "Finance                 -0.111111     -0.111111  1.000000 -0.111111   \n",
       "ICT                     -0.111111     -0.111111 -0.111111  1.000000   \n",
       "Other_Service           -0.111111     -0.111111 -0.111111 -0.111111   \n",
       "Production              -0.111111     -0.111111 -0.111111 -0.111111   \n",
       "Professional_Service    -0.111111     -0.111111 -0.111111 -0.111111   \n",
       "Public_Adminstration    -0.111111     -0.111111 -0.111111 -0.111111   \n",
       "Real_Estate             -0.111111     -0.111111 -0.111111 -0.111111   \n",
       "Retail                  -0.111111     -0.111111 -0.111111 -0.111111   \n",
       "Avg                     -0.250933      0.209476 -0.309849 -0.311015   \n",
       "\n",
       "                      Other_Service  Production  Professional_Service  \\\n",
       "Agriculture               -0.111111   -0.111111             -0.111111   \n",
       "Construction              -0.111111   -0.111111             -0.111111   \n",
       "Finance                   -0.111111   -0.111111             -0.111111   \n",
       "ICT                       -0.111111   -0.111111             -0.111111   \n",
       "Other_Service              1.000000   -0.111111             -0.111111   \n",
       "Production                -0.111111    1.000000             -0.111111   \n",
       "Professional_Service      -0.111111   -0.111111              1.000000   \n",
       "Public_Adminstration      -0.111111   -0.111111             -0.111111   \n",
       "Real_Estate               -0.111111   -0.111111             -0.111111   \n",
       "Retail                    -0.111111   -0.111111             -0.111111   \n",
       "Avg                        0.039062    0.773882              0.013562   \n",
       "\n",
       "                      Public_Adminstration  Real_Estate    Retail       Avg  \n",
       "Agriculture                      -0.111111    -0.111111 -0.111111 -0.250933  \n",
       "Construction                     -0.111111    -0.111111 -0.111111  0.209476  \n",
       "Finance                          -0.111111    -0.111111 -0.111111 -0.309849  \n",
       "ICT                              -0.111111    -0.111111 -0.111111 -0.311015  \n",
       "Other_Service                    -0.111111    -0.111111 -0.111111  0.039062  \n",
       "Production                       -0.111111    -0.111111 -0.111111  0.773882  \n",
       "Professional_Service             -0.111111    -0.111111 -0.111111  0.013562  \n",
       "Public_Adminstration              1.000000    -0.111111 -0.111111  0.157810  \n",
       "Real_Estate                      -0.111111     1.000000 -0.111111 -0.420014  \n",
       "Retail                           -0.111111    -0.111111  1.000000  0.098019  \n",
       "Avg                               0.157810    -0.420014  0.098019  1.000000  "
      ]
     },
     "execution_count": 61,
     "metadata": {},
     "output_type": "execute_result"
    }
   ],
   "source": [
    "data_3.corr()"
   ]
  },
  {
   "cell_type": "markdown",
   "metadata": {},
   "source": [
    "### Conclusion: \n",
    "\n",
    "From the correlation matrix of the industry, it is clear that there no correlation between the industries"
   ]
  },
  {
   "cell_type": "markdown",
   "metadata": {},
   "source": [
    "- 4.2"
   ]
  },
  {
   "cell_type": "code",
   "execution_count": 81,
   "metadata": {},
   "outputs": [
    {
     "data": {
      "text/html": [
       "<div>\n",
       "<style scoped>\n",
       "    .dataframe tbody tr th:only-of-type {\n",
       "        vertical-align: middle;\n",
       "    }\n",
       "\n",
       "    .dataframe tbody tr th {\n",
       "        vertical-align: top;\n",
       "    }\n",
       "\n",
       "    .dataframe thead th {\n",
       "        text-align: right;\n",
       "    }\n",
       "</style>\n",
       "<table border=\"1\" class=\"dataframe\">\n",
       "  <thead>\n",
       "    <tr style=\"text-align: right;\">\n",
       "      <th></th>\n",
       "      <th>Agriculture</th>\n",
       "      <th>Construction</th>\n",
       "      <th>Finance</th>\n",
       "      <th>ICT</th>\n",
       "      <th>Other_Service</th>\n",
       "      <th>Production</th>\n",
       "      <th>Professional_Service</th>\n",
       "      <th>Public_Adminstration</th>\n",
       "      <th>Real_Estate</th>\n",
       "      <th>Retail</th>\n",
       "      <th>2018</th>\n",
       "      <th>2017</th>\n",
       "      <th>2016</th>\n",
       "      <th>2015</th>\n",
       "      <th>2014</th>\n",
       "      <th>2013</th>\n",
       "      <th>2012</th>\n",
       "      <th>2011</th>\n",
       "      <th>2010</th>\n",
       "      <th>2009</th>\n",
       "    </tr>\n",
       "  </thead>\n",
       "  <tbody>\n",
       "    <tr>\n",
       "      <th>Agriculture</th>\n",
       "      <td>1.000000</td>\n",
       "      <td>-0.111111</td>\n",
       "      <td>-0.111111</td>\n",
       "      <td>-0.111111</td>\n",
       "      <td>-0.111111</td>\n",
       "      <td>-0.111111</td>\n",
       "      <td>-0.111111</td>\n",
       "      <td>-0.111111</td>\n",
       "      <td>-0.111111</td>\n",
       "      <td>-0.111111</td>\n",
       "      <td>-0.274517</td>\n",
       "      <td>-0.289617</td>\n",
       "      <td>-0.230803</td>\n",
       "      <td>-0.229161</td>\n",
       "      <td>-0.225924</td>\n",
       "      <td>-0.258121</td>\n",
       "      <td>-0.254567</td>\n",
       "      <td>-0.255999</td>\n",
       "      <td>-0.237821</td>\n",
       "      <td>-0.240261</td>\n",
       "    </tr>\n",
       "    <tr>\n",
       "      <th>Construction</th>\n",
       "      <td>-0.111111</td>\n",
       "      <td>1.000000</td>\n",
       "      <td>-0.111111</td>\n",
       "      <td>-0.111111</td>\n",
       "      <td>-0.111111</td>\n",
       "      <td>-0.111111</td>\n",
       "      <td>-0.111111</td>\n",
       "      <td>-0.111111</td>\n",
       "      <td>-0.111111</td>\n",
       "      <td>-0.111111</td>\n",
       "      <td>0.222328</td>\n",
       "      <td>0.142685</td>\n",
       "      <td>0.269754</td>\n",
       "      <td>0.171900</td>\n",
       "      <td>0.207043</td>\n",
       "      <td>0.168424</td>\n",
       "      <td>0.220053</td>\n",
       "      <td>0.196628</td>\n",
       "      <td>0.238288</td>\n",
       "      <td>0.248915</td>\n",
       "    </tr>\n",
       "    <tr>\n",
       "      <th>Finance</th>\n",
       "      <td>-0.111111</td>\n",
       "      <td>-0.111111</td>\n",
       "      <td>1.000000</td>\n",
       "      <td>-0.111111</td>\n",
       "      <td>-0.111111</td>\n",
       "      <td>-0.111111</td>\n",
       "      <td>-0.111111</td>\n",
       "      <td>-0.111111</td>\n",
       "      <td>-0.111111</td>\n",
       "      <td>-0.111111</td>\n",
       "      <td>-0.320354</td>\n",
       "      <td>-0.358819</td>\n",
       "      <td>-0.333438</td>\n",
       "      <td>-0.305664</td>\n",
       "      <td>-0.308052</td>\n",
       "      <td>-0.293869</td>\n",
       "      <td>-0.297558</td>\n",
       "      <td>-0.280352</td>\n",
       "      <td>-0.310535</td>\n",
       "      <td>-0.272652</td>\n",
       "    </tr>\n",
       "    <tr>\n",
       "      <th>ICT</th>\n",
       "      <td>-0.111111</td>\n",
       "      <td>-0.111111</td>\n",
       "      <td>-0.111111</td>\n",
       "      <td>1.000000</td>\n",
       "      <td>-0.111111</td>\n",
       "      <td>-0.111111</td>\n",
       "      <td>-0.111111</td>\n",
       "      <td>-0.111111</td>\n",
       "      <td>-0.111111</td>\n",
       "      <td>-0.111111</td>\n",
       "      <td>-0.353095</td>\n",
       "      <td>-0.129853</td>\n",
       "      <td>-0.304835</td>\n",
       "      <td>-0.358212</td>\n",
       "      <td>-0.281740</td>\n",
       "      <td>-0.338555</td>\n",
       "      <td>-0.331091</td>\n",
       "      <td>-0.337455</td>\n",
       "      <td>-0.326983</td>\n",
       "      <td>-0.322483</td>\n",
       "    </tr>\n",
       "    <tr>\n",
       "      <th>Other_Service</th>\n",
       "      <td>-0.111111</td>\n",
       "      <td>-0.111111</td>\n",
       "      <td>-0.111111</td>\n",
       "      <td>-0.111111</td>\n",
       "      <td>1.000000</td>\n",
       "      <td>-0.111111</td>\n",
       "      <td>-0.111111</td>\n",
       "      <td>-0.111111</td>\n",
       "      <td>-0.111111</td>\n",
       "      <td>-0.111111</td>\n",
       "      <td>0.058623</td>\n",
       "      <td>0.077755</td>\n",
       "      <td>0.014848</td>\n",
       "      <td>0.052895</td>\n",
       "      <td>0.018068</td>\n",
       "      <td>0.056304</td>\n",
       "      <td>0.060987</td>\n",
       "      <td>0.048832</td>\n",
       "      <td>0.020144</td>\n",
       "      <td>-0.020173</td>\n",
       "    </tr>\n",
       "    <tr>\n",
       "      <th>Production</th>\n",
       "      <td>-0.111111</td>\n",
       "      <td>-0.111111</td>\n",
       "      <td>-0.111111</td>\n",
       "      <td>-0.111111</td>\n",
       "      <td>-0.111111</td>\n",
       "      <td>1.000000</td>\n",
       "      <td>-0.111111</td>\n",
       "      <td>-0.111111</td>\n",
       "      <td>-0.111111</td>\n",
       "      <td>-0.111111</td>\n",
       "      <td>0.745364</td>\n",
       "      <td>0.777469</td>\n",
       "      <td>0.772834</td>\n",
       "      <td>0.787788</td>\n",
       "      <td>0.815429</td>\n",
       "      <td>0.776962</td>\n",
       "      <td>0.762599</td>\n",
       "      <td>0.772700</td>\n",
       "      <td>0.728247</td>\n",
       "      <td>0.748058</td>\n",
       "    </tr>\n",
       "    <tr>\n",
       "      <th>Professional_Service</th>\n",
       "      <td>-0.111111</td>\n",
       "      <td>-0.111111</td>\n",
       "      <td>-0.111111</td>\n",
       "      <td>-0.111111</td>\n",
       "      <td>-0.111111</td>\n",
       "      <td>-0.111111</td>\n",
       "      <td>1.000000</td>\n",
       "      <td>-0.111111</td>\n",
       "      <td>-0.111111</td>\n",
       "      <td>-0.111111</td>\n",
       "      <td>0.117556</td>\n",
       "      <td>0.070065</td>\n",
       "      <td>0.011483</td>\n",
       "      <td>0.062941</td>\n",
       "      <td>-0.049707</td>\n",
       "      <td>0.031930</td>\n",
       "      <td>-0.056808</td>\n",
       "      <td>-0.022547</td>\n",
       "      <td>-0.014482</td>\n",
       "      <td>-0.021004</td>\n",
       "    </tr>\n",
       "    <tr>\n",
       "      <th>Public_Adminstration</th>\n",
       "      <td>-0.111111</td>\n",
       "      <td>-0.111111</td>\n",
       "      <td>-0.111111</td>\n",
       "      <td>-0.111111</td>\n",
       "      <td>-0.111111</td>\n",
       "      <td>-0.111111</td>\n",
       "      <td>-0.111111</td>\n",
       "      <td>1.000000</td>\n",
       "      <td>-0.111111</td>\n",
       "      <td>-0.111111</td>\n",
       "      <td>0.122468</td>\n",
       "      <td>0.101676</td>\n",
       "      <td>0.105706</td>\n",
       "      <td>0.117807</td>\n",
       "      <td>0.124915</td>\n",
       "      <td>0.170049</td>\n",
       "      <td>0.192539</td>\n",
       "      <td>0.185712</td>\n",
       "      <td>0.237422</td>\n",
       "      <td>0.217356</td>\n",
       "    </tr>\n",
       "    <tr>\n",
       "      <th>Real_Estate</th>\n",
       "      <td>-0.111111</td>\n",
       "      <td>-0.111111</td>\n",
       "      <td>-0.111111</td>\n",
       "      <td>-0.111111</td>\n",
       "      <td>-0.111111</td>\n",
       "      <td>-0.111111</td>\n",
       "      <td>-0.111111</td>\n",
       "      <td>-0.111111</td>\n",
       "      <td>1.000000</td>\n",
       "      <td>-0.111111</td>\n",
       "      <td>-0.404662</td>\n",
       "      <td>-0.477574</td>\n",
       "      <td>-0.403264</td>\n",
       "      <td>-0.396077</td>\n",
       "      <td>-0.389383</td>\n",
       "      <td>-0.410865</td>\n",
       "      <td>-0.403315</td>\n",
       "      <td>-0.411353</td>\n",
       "      <td>-0.442114</td>\n",
       "      <td>-0.441247</td>\n",
       "    </tr>\n",
       "    <tr>\n",
       "      <th>Retail</th>\n",
       "      <td>-0.111111</td>\n",
       "      <td>-0.111111</td>\n",
       "      <td>-0.111111</td>\n",
       "      <td>-0.111111</td>\n",
       "      <td>-0.111111</td>\n",
       "      <td>-0.111111</td>\n",
       "      <td>-0.111111</td>\n",
       "      <td>-0.111111</td>\n",
       "      <td>-0.111111</td>\n",
       "      <td>1.000000</td>\n",
       "      <td>0.086289</td>\n",
       "      <td>0.086213</td>\n",
       "      <td>0.097714</td>\n",
       "      <td>0.095783</td>\n",
       "      <td>0.089352</td>\n",
       "      <td>0.097740</td>\n",
       "      <td>0.107159</td>\n",
       "      <td>0.103836</td>\n",
       "      <td>0.107834</td>\n",
       "      <td>0.103491</td>\n",
       "    </tr>\n",
       "    <tr>\n",
       "      <th>2018</th>\n",
       "      <td>-0.274517</td>\n",
       "      <td>0.222328</td>\n",
       "      <td>-0.320354</td>\n",
       "      <td>-0.353095</td>\n",
       "      <td>0.058623</td>\n",
       "      <td>0.745364</td>\n",
       "      <td>0.117556</td>\n",
       "      <td>0.122468</td>\n",
       "      <td>-0.404662</td>\n",
       "      <td>0.086289</td>\n",
       "      <td>1.000000</td>\n",
       "      <td>0.969720</td>\n",
       "      <td>0.990552</td>\n",
       "      <td>0.995571</td>\n",
       "      <td>0.980822</td>\n",
       "      <td>0.993315</td>\n",
       "      <td>0.983143</td>\n",
       "      <td>0.987547</td>\n",
       "      <td>0.983499</td>\n",
       "      <td>0.981484</td>\n",
       "    </tr>\n",
       "    <tr>\n",
       "      <th>2017</th>\n",
       "      <td>-0.289617</td>\n",
       "      <td>0.142685</td>\n",
       "      <td>-0.358819</td>\n",
       "      <td>-0.129853</td>\n",
       "      <td>0.077755</td>\n",
       "      <td>0.777469</td>\n",
       "      <td>0.070065</td>\n",
       "      <td>0.101676</td>\n",
       "      <td>-0.477574</td>\n",
       "      <td>0.086213</td>\n",
       "      <td>0.969720</td>\n",
       "      <td>1.000000</td>\n",
       "      <td>0.971223</td>\n",
       "      <td>0.969737</td>\n",
       "      <td>0.972315</td>\n",
       "      <td>0.972729</td>\n",
       "      <td>0.962977</td>\n",
       "      <td>0.966480</td>\n",
       "      <td>0.961275</td>\n",
       "      <td>0.958600</td>\n",
       "    </tr>\n",
       "    <tr>\n",
       "      <th>2016</th>\n",
       "      <td>-0.230803</td>\n",
       "      <td>0.269754</td>\n",
       "      <td>-0.333438</td>\n",
       "      <td>-0.304835</td>\n",
       "      <td>0.014848</td>\n",
       "      <td>0.772834</td>\n",
       "      <td>0.011483</td>\n",
       "      <td>0.105706</td>\n",
       "      <td>-0.403264</td>\n",
       "      <td>0.097714</td>\n",
       "      <td>0.990552</td>\n",
       "      <td>0.971223</td>\n",
       "      <td>1.000000</td>\n",
       "      <td>0.992026</td>\n",
       "      <td>0.994899</td>\n",
       "      <td>0.990969</td>\n",
       "      <td>0.991208</td>\n",
       "      <td>0.991593</td>\n",
       "      <td>0.989332</td>\n",
       "      <td>0.990385</td>\n",
       "    </tr>\n",
       "    <tr>\n",
       "      <th>2015</th>\n",
       "      <td>-0.229161</td>\n",
       "      <td>0.171900</td>\n",
       "      <td>-0.305664</td>\n",
       "      <td>-0.358212</td>\n",
       "      <td>0.052895</td>\n",
       "      <td>0.787788</td>\n",
       "      <td>0.062941</td>\n",
       "      <td>0.117807</td>\n",
       "      <td>-0.396077</td>\n",
       "      <td>0.095783</td>\n",
       "      <td>0.995571</td>\n",
       "      <td>0.969737</td>\n",
       "      <td>0.992026</td>\n",
       "      <td>1.000000</td>\n",
       "      <td>0.990144</td>\n",
       "      <td>0.997562</td>\n",
       "      <td>0.988943</td>\n",
       "      <td>0.993311</td>\n",
       "      <td>0.985300</td>\n",
       "      <td>0.984522</td>\n",
       "    </tr>\n",
       "    <tr>\n",
       "      <th>2014</th>\n",
       "      <td>-0.225924</td>\n",
       "      <td>0.207043</td>\n",
       "      <td>-0.308052</td>\n",
       "      <td>-0.281740</td>\n",
       "      <td>0.018068</td>\n",
       "      <td>0.815429</td>\n",
       "      <td>-0.049707</td>\n",
       "      <td>0.124915</td>\n",
       "      <td>-0.389383</td>\n",
       "      <td>0.089352</td>\n",
       "      <td>0.980822</td>\n",
       "      <td>0.972315</td>\n",
       "      <td>0.994899</td>\n",
       "      <td>0.990144</td>\n",
       "      <td>1.000000</td>\n",
       "      <td>0.991840</td>\n",
       "      <td>0.994014</td>\n",
       "      <td>0.994248</td>\n",
       "      <td>0.987491</td>\n",
       "      <td>0.989590</td>\n",
       "    </tr>\n",
       "    <tr>\n",
       "      <th>2013</th>\n",
       "      <td>-0.258121</td>\n",
       "      <td>0.168424</td>\n",
       "      <td>-0.293869</td>\n",
       "      <td>-0.338555</td>\n",
       "      <td>0.056304</td>\n",
       "      <td>0.776962</td>\n",
       "      <td>0.031930</td>\n",
       "      <td>0.170049</td>\n",
       "      <td>-0.410865</td>\n",
       "      <td>0.097740</td>\n",
       "      <td>0.993315</td>\n",
       "      <td>0.972729</td>\n",
       "      <td>0.990969</td>\n",
       "      <td>0.997562</td>\n",
       "      <td>0.991840</td>\n",
       "      <td>1.000000</td>\n",
       "      <td>0.994824</td>\n",
       "      <td>0.998061</td>\n",
       "      <td>0.992279</td>\n",
       "      <td>0.990916</td>\n",
       "    </tr>\n",
       "    <tr>\n",
       "      <th>2012</th>\n",
       "      <td>-0.254567</td>\n",
       "      <td>0.220053</td>\n",
       "      <td>-0.297558</td>\n",
       "      <td>-0.331091</td>\n",
       "      <td>0.060987</td>\n",
       "      <td>0.762599</td>\n",
       "      <td>-0.056808</td>\n",
       "      <td>0.192539</td>\n",
       "      <td>-0.403315</td>\n",
       "      <td>0.107159</td>\n",
       "      <td>0.983143</td>\n",
       "      <td>0.962977</td>\n",
       "      <td>0.991208</td>\n",
       "      <td>0.988943</td>\n",
       "      <td>0.994014</td>\n",
       "      <td>0.994824</td>\n",
       "      <td>1.000000</td>\n",
       "      <td>0.998905</td>\n",
       "      <td>0.995969</td>\n",
       "      <td>0.994654</td>\n",
       "    </tr>\n",
       "    <tr>\n",
       "      <th>2011</th>\n",
       "      <td>-0.255999</td>\n",
       "      <td>0.196628</td>\n",
       "      <td>-0.280352</td>\n",
       "      <td>-0.337455</td>\n",
       "      <td>0.048832</td>\n",
       "      <td>0.772700</td>\n",
       "      <td>-0.022547</td>\n",
       "      <td>0.185712</td>\n",
       "      <td>-0.411353</td>\n",
       "      <td>0.103836</td>\n",
       "      <td>0.987547</td>\n",
       "      <td>0.966480</td>\n",
       "      <td>0.991593</td>\n",
       "      <td>0.993311</td>\n",
       "      <td>0.994248</td>\n",
       "      <td>0.998061</td>\n",
       "      <td>0.998905</td>\n",
       "      <td>1.000000</td>\n",
       "      <td>0.995686</td>\n",
       "      <td>0.995261</td>\n",
       "    </tr>\n",
       "    <tr>\n",
       "      <th>2010</th>\n",
       "      <td>-0.237821</td>\n",
       "      <td>0.238288</td>\n",
       "      <td>-0.310535</td>\n",
       "      <td>-0.326983</td>\n",
       "      <td>0.020144</td>\n",
       "      <td>0.728247</td>\n",
       "      <td>-0.014482</td>\n",
       "      <td>0.237422</td>\n",
       "      <td>-0.442114</td>\n",
       "      <td>0.107834</td>\n",
       "      <td>0.983499</td>\n",
       "      <td>0.961275</td>\n",
       "      <td>0.989332</td>\n",
       "      <td>0.985300</td>\n",
       "      <td>0.987491</td>\n",
       "      <td>0.992279</td>\n",
       "      <td>0.995969</td>\n",
       "      <td>0.995686</td>\n",
       "      <td>1.000000</td>\n",
       "      <td>0.998174</td>\n",
       "    </tr>\n",
       "    <tr>\n",
       "      <th>2009</th>\n",
       "      <td>-0.240261</td>\n",
       "      <td>0.248915</td>\n",
       "      <td>-0.272652</td>\n",
       "      <td>-0.322483</td>\n",
       "      <td>-0.020173</td>\n",
       "      <td>0.748058</td>\n",
       "      <td>-0.021004</td>\n",
       "      <td>0.217356</td>\n",
       "      <td>-0.441247</td>\n",
       "      <td>0.103491</td>\n",
       "      <td>0.981484</td>\n",
       "      <td>0.958600</td>\n",
       "      <td>0.990385</td>\n",
       "      <td>0.984522</td>\n",
       "      <td>0.989590</td>\n",
       "      <td>0.990916</td>\n",
       "      <td>0.994654</td>\n",
       "      <td>0.995261</td>\n",
       "      <td>0.998174</td>\n",
       "      <td>1.000000</td>\n",
       "    </tr>\n",
       "  </tbody>\n",
       "</table>\n",
       "</div>"
      ],
      "text/plain": [
       "                      Agriculture  Construction   Finance       ICT  \\\n",
       "Agriculture              1.000000     -0.111111 -0.111111 -0.111111   \n",
       "Construction            -0.111111      1.000000 -0.111111 -0.111111   \n",
       "Finance                 -0.111111     -0.111111  1.000000 -0.111111   \n",
       "ICT                     -0.111111     -0.111111 -0.111111  1.000000   \n",
       "Other_Service           -0.111111     -0.111111 -0.111111 -0.111111   \n",
       "Production              -0.111111     -0.111111 -0.111111 -0.111111   \n",
       "Professional_Service    -0.111111     -0.111111 -0.111111 -0.111111   \n",
       "Public_Adminstration    -0.111111     -0.111111 -0.111111 -0.111111   \n",
       "Real_Estate             -0.111111     -0.111111 -0.111111 -0.111111   \n",
       "Retail                  -0.111111     -0.111111 -0.111111 -0.111111   \n",
       "2018                    -0.274517      0.222328 -0.320354 -0.353095   \n",
       "2017                    -0.289617      0.142685 -0.358819 -0.129853   \n",
       "2016                    -0.230803      0.269754 -0.333438 -0.304835   \n",
       "2015                    -0.229161      0.171900 -0.305664 -0.358212   \n",
       "2014                    -0.225924      0.207043 -0.308052 -0.281740   \n",
       "2013                    -0.258121      0.168424 -0.293869 -0.338555   \n",
       "2012                    -0.254567      0.220053 -0.297558 -0.331091   \n",
       "2011                    -0.255999      0.196628 -0.280352 -0.337455   \n",
       "2010                    -0.237821      0.238288 -0.310535 -0.326983   \n",
       "2009                    -0.240261      0.248915 -0.272652 -0.322483   \n",
       "\n",
       "                      Other_Service  Production  Professional_Service  \\\n",
       "Agriculture               -0.111111   -0.111111             -0.111111   \n",
       "Construction              -0.111111   -0.111111             -0.111111   \n",
       "Finance                   -0.111111   -0.111111             -0.111111   \n",
       "ICT                       -0.111111   -0.111111             -0.111111   \n",
       "Other_Service              1.000000   -0.111111             -0.111111   \n",
       "Production                -0.111111    1.000000             -0.111111   \n",
       "Professional_Service      -0.111111   -0.111111              1.000000   \n",
       "Public_Adminstration      -0.111111   -0.111111             -0.111111   \n",
       "Real_Estate               -0.111111   -0.111111             -0.111111   \n",
       "Retail                    -0.111111   -0.111111             -0.111111   \n",
       "2018                       0.058623    0.745364              0.117556   \n",
       "2017                       0.077755    0.777469              0.070065   \n",
       "2016                       0.014848    0.772834              0.011483   \n",
       "2015                       0.052895    0.787788              0.062941   \n",
       "2014                       0.018068    0.815429             -0.049707   \n",
       "2013                       0.056304    0.776962              0.031930   \n",
       "2012                       0.060987    0.762599             -0.056808   \n",
       "2011                       0.048832    0.772700             -0.022547   \n",
       "2010                       0.020144    0.728247             -0.014482   \n",
       "2009                      -0.020173    0.748058             -0.021004   \n",
       "\n",
       "                      Public_Adminstration  Real_Estate    Retail      2018  \\\n",
       "Agriculture                      -0.111111    -0.111111 -0.111111 -0.274517   \n",
       "Construction                     -0.111111    -0.111111 -0.111111  0.222328   \n",
       "Finance                          -0.111111    -0.111111 -0.111111 -0.320354   \n",
       "ICT                              -0.111111    -0.111111 -0.111111 -0.353095   \n",
       "Other_Service                    -0.111111    -0.111111 -0.111111  0.058623   \n",
       "Production                       -0.111111    -0.111111 -0.111111  0.745364   \n",
       "Professional_Service             -0.111111    -0.111111 -0.111111  0.117556   \n",
       "Public_Adminstration              1.000000    -0.111111 -0.111111  0.122468   \n",
       "Real_Estate                      -0.111111     1.000000 -0.111111 -0.404662   \n",
       "Retail                           -0.111111    -0.111111  1.000000  0.086289   \n",
       "2018                              0.122468    -0.404662  0.086289  1.000000   \n",
       "2017                              0.101676    -0.477574  0.086213  0.969720   \n",
       "2016                              0.105706    -0.403264  0.097714  0.990552   \n",
       "2015                              0.117807    -0.396077  0.095783  0.995571   \n",
       "2014                              0.124915    -0.389383  0.089352  0.980822   \n",
       "2013                              0.170049    -0.410865  0.097740  0.993315   \n",
       "2012                              0.192539    -0.403315  0.107159  0.983143   \n",
       "2011                              0.185712    -0.411353  0.103836  0.987547   \n",
       "2010                              0.237422    -0.442114  0.107834  0.983499   \n",
       "2009                              0.217356    -0.441247  0.103491  0.981484   \n",
       "\n",
       "                          2017      2016      2015      2014      2013  \\\n",
       "Agriculture          -0.289617 -0.230803 -0.229161 -0.225924 -0.258121   \n",
       "Construction          0.142685  0.269754  0.171900  0.207043  0.168424   \n",
       "Finance              -0.358819 -0.333438 -0.305664 -0.308052 -0.293869   \n",
       "ICT                  -0.129853 -0.304835 -0.358212 -0.281740 -0.338555   \n",
       "Other_Service         0.077755  0.014848  0.052895  0.018068  0.056304   \n",
       "Production            0.777469  0.772834  0.787788  0.815429  0.776962   \n",
       "Professional_Service  0.070065  0.011483  0.062941 -0.049707  0.031930   \n",
       "Public_Adminstration  0.101676  0.105706  0.117807  0.124915  0.170049   \n",
       "Real_Estate          -0.477574 -0.403264 -0.396077 -0.389383 -0.410865   \n",
       "Retail                0.086213  0.097714  0.095783  0.089352  0.097740   \n",
       "2018                  0.969720  0.990552  0.995571  0.980822  0.993315   \n",
       "2017                  1.000000  0.971223  0.969737  0.972315  0.972729   \n",
       "2016                  0.971223  1.000000  0.992026  0.994899  0.990969   \n",
       "2015                  0.969737  0.992026  1.000000  0.990144  0.997562   \n",
       "2014                  0.972315  0.994899  0.990144  1.000000  0.991840   \n",
       "2013                  0.972729  0.990969  0.997562  0.991840  1.000000   \n",
       "2012                  0.962977  0.991208  0.988943  0.994014  0.994824   \n",
       "2011                  0.966480  0.991593  0.993311  0.994248  0.998061   \n",
       "2010                  0.961275  0.989332  0.985300  0.987491  0.992279   \n",
       "2009                  0.958600  0.990385  0.984522  0.989590  0.990916   \n",
       "\n",
       "                          2012      2011      2010      2009  \n",
       "Agriculture          -0.254567 -0.255999 -0.237821 -0.240261  \n",
       "Construction          0.220053  0.196628  0.238288  0.248915  \n",
       "Finance              -0.297558 -0.280352 -0.310535 -0.272652  \n",
       "ICT                  -0.331091 -0.337455 -0.326983 -0.322483  \n",
       "Other_Service         0.060987  0.048832  0.020144 -0.020173  \n",
       "Production            0.762599  0.772700  0.728247  0.748058  \n",
       "Professional_Service -0.056808 -0.022547 -0.014482 -0.021004  \n",
       "Public_Adminstration  0.192539  0.185712  0.237422  0.217356  \n",
       "Real_Estate          -0.403315 -0.411353 -0.442114 -0.441247  \n",
       "Retail                0.107159  0.103836  0.107834  0.103491  \n",
       "2018                  0.983143  0.987547  0.983499  0.981484  \n",
       "2017                  0.962977  0.966480  0.961275  0.958600  \n",
       "2016                  0.991208  0.991593  0.989332  0.990385  \n",
       "2015                  0.988943  0.993311  0.985300  0.984522  \n",
       "2014                  0.994014  0.994248  0.987491  0.989590  \n",
       "2013                  0.994824  0.998061  0.992279  0.990916  \n",
       "2012                  1.000000  0.998905  0.995969  0.994654  \n",
       "2011                  0.998905  1.000000  0.995686  0.995261  \n",
       "2010                  0.995969  0.995686  1.000000  0.998174  \n",
       "2009                  0.994654  0.995261  0.998174  1.000000  "
      ]
     },
     "execution_count": 81,
     "metadata": {},
     "output_type": "execute_result"
    }
   ],
   "source": [
    "data_ = data.copy()\n",
    "data_dummy = pd.get_dummies(data_['Industry'])\n",
    "data_4 = pd.concat([data_dummy, data_], axis=1)\n",
    "data_4.corr()"
   ]
  },
  {
   "cell_type": "code",
   "execution_count": 84,
   "metadata": {},
   "outputs": [
    {
     "data": {
      "text/plain": [
       "<matplotlib.axes._subplots.AxesSubplot at 0x19a1c290da0>"
      ]
     },
     "execution_count": 84,
     "metadata": {},
     "output_type": "execute_result"
    },
    {
     "data": {
      "image/png": "[encoded data removed]",
      "text/plain": [
       "<Figure size 720x720 with 2 Axes>"
      ]
     },
     "metadata": {
      "needs_background": "light"
     },
     "output_type": "display_data"
    }
   ],
   "source": [
    "plt.figure(figsize=(10,10))\n",
    "sns.heatmap(data_4.corr())"
   ]
  },
  {
   "cell_type": "markdown",
   "metadata": {},
   "source": [
    "## 5 Clustering"
   ]
  },
  {
   "cell_type": "markdown",
   "metadata": {},
   "source": [
    "- 5.1"
   ]
  },
  {
   "cell_type": "code",
   "execution_count": 144,
   "metadata": {},
   "outputs": [
    {
     "data": {
      "text/plain": [
       "2018    746380.0\n",
       "2017    740990.0\n",
       "2016    706350.0\n",
       "2015    703550.0\n",
       "2014    710340.0\n",
       "2013    685700.0\n",
       "2012    657070.0\n",
       "2011    665850.0\n",
       "2010    656730.0\n",
       "2009    666290.0\n",
       "dtype: float64"
      ]
     },
     "execution_count": 144,
     "metadata": {},
     "output_type": "execute_result"
    }
   ],
   "source": [
    "data_ = data.copy()\n",
    "data_ = data_.drop(['Industry'],axis=1)\n",
    "sum_employment = data_.sum(axis=0)\n",
    "sum_employment.head(10)"
   ]
  },
  {
   "cell_type": "code",
   "execution_count": 145,
   "metadata": {},
   "outputs": [
    {
     "data": {
      "text/plain": [
       "<matplotlib.axes._subplots.AxesSubplot at 0x19a1d98d780>"
      ]
     },
     "execution_count": 145,
     "metadata": {},
     "output_type": "execute_result"
    },
    {
     "data": {
      "image/png": "[encoded data removed]",
      "text/plain": [
       "<Figure size 432x288 with 1 Axes>"
      ]
     },
     "metadata": {
      "needs_background": "light"
     },
     "output_type": "display_data"
    }
   ],
   "source": [
    "p = ['2018', '2017', '2016', '2015', '2014', '2013', '2012',\n",
    "       '2011', '2010', '2009']\n",
    "sns.barplot(x=p, y=sum_employment)"
   ]
  },
  {
   "cell_type": "code",
   "execution_count": 146,
   "metadata": {},
   "outputs": [
    {
     "data": {
      "text/plain": [
       "Index(['2018', '2017', '2016', '2015', '2014', '2013', '2012', '2011', '2010',\n",
       "       '2009'],\n",
       "      dtype='object')"
      ]
     },
     "execution_count": 146,
     "metadata": {},
     "output_type": "execute_result"
    }
   ],
   "source": [
    "data_.columns"
   ]
  },
  {
   "cell_type": "code",
   "execution_count": 147,
   "metadata": {},
   "outputs": [
    {
     "data": {
      "text/html": [
       "<div>\n",
       "<style scoped>\n",
       "    .dataframe tbody tr th:only-of-type {\n",
       "        vertical-align: middle;\n",
       "    }\n",
       "\n",
       "    .dataframe tbody tr th {\n",
       "        vertical-align: top;\n",
       "    }\n",
       "\n",
       "    .dataframe thead th {\n",
       "        text-align: right;\n",
       "    }\n",
       "</style>\n",
       "<table border=\"1\" class=\"dataframe\">\n",
       "  <thead>\n",
       "    <tr style=\"text-align: right;\">\n",
       "      <th></th>\n",
       "      <th>2018</th>\n",
       "      <th>2012</th>\n",
       "    </tr>\n",
       "  </thead>\n",
       "  <tbody>\n",
       "    <tr>\n",
       "      <th>0</th>\n",
       "      <td>41100.0</td>\n",
       "      <td>36100.0</td>\n",
       "    </tr>\n",
       "    <tr>\n",
       "      <th>1</th>\n",
       "      <td>165700.0</td>\n",
       "      <td>154400.0</td>\n",
       "    </tr>\n",
       "    <tr>\n",
       "      <th>2</th>\n",
       "      <td>101800.0</td>\n",
       "      <td>91300.0</td>\n",
       "    </tr>\n",
       "    <tr>\n",
       "      <th>3</th>\n",
       "      <td>85180.0</td>\n",
       "      <td>78170.0</td>\n",
       "    </tr>\n",
       "    <tr>\n",
       "      <th>4</th>\n",
       "      <td>31500.0</td>\n",
       "      <td>27200.0</td>\n",
       "    </tr>\n",
       "  </tbody>\n",
       "</table>\n",
       "</div>"
      ],
      "text/plain": [
       "       2018      2012\n",
       "0   41100.0   36100.0\n",
       "1  165700.0  154400.0\n",
       "2  101800.0   91300.0\n",
       "3   85180.0   78170.0\n",
       "4   31500.0   27200.0"
      ]
     },
     "execution_count": 147,
     "metadata": {},
     "output_type": "execute_result"
    }
   ],
   "source": [
    "X = data_.drop(['2017', '2016', '2015', '2014', '2013', '2011', '2010',\n",
    "       '2009'],axis=1)\n",
    "X.head()"
   ]
  },
  {
   "cell_type": "code",
   "execution_count": 148,
   "metadata": {},
   "outputs": [],
   "source": [
    "from sklearn.cluster import KMeans\n",
    "from sklearn.decomposition import PCA"
   ]
  },
  {
   "cell_type": "code",
   "execution_count": 168,
   "metadata": {},
   "outputs": [
    {
     "data": {
      "text/plain": [
       "<matplotlib.collections.PathCollection at 0x19a1f3a9b00>"
      ]
     },
     "execution_count": 168,
     "metadata": {},
     "output_type": "execute_result"
    },
    {
     "data": {
      "image/png": "[encoded data removed]",
      "text/plain": [
       "<Figure size 1080x360 with 3 Axes>"
      ]
     },
     "metadata": {
      "needs_background": "light"
     },
     "output_type": "display_data"
    }
   ],
   "source": [
    "plt.figure(figsize=(15,5))\n",
    "\n",
    "km = KMeans(n_clusters=2, max_iter=300, random_state=None)\n",
    "km.fit_predict(X)\n",
    "plt.subplot(1,3,1)\n",
    "plt.scatter(X['2018'], X['2012'], c=km.labels_)\n",
    "\n",
    "km = KMeans(n_clusters=3, max_iter=300, random_state=None)\n",
    "km.fit_predict(X)\n",
    "plt.subplot(1,3,2)\n",
    "plt.scatter(X['2018'], X['2012'], c=km.labels_)\n",
    "\n",
    "km = KMeans(n_clusters=5, max_iter=300, random_state=None)\n",
    "km.fit_predict(X)\n",
    "plt.subplot(1,3,3)\n",
    "plt.scatter(X['2018'], X['2012'], c=km.labels_)"
   ]
  },
  {
   "cell_type": "markdown",
   "metadata": {},
   "source": [
    "### Conclusion\n",
    "\n",
    "From K-Means clustering it is clear that, there is 3 clusters in our dataset"
   ]
  },
  {
   "cell_type": "markdown",
   "metadata": {},
   "source": [
    "- 5.2"
   ]
  },
  {
   "cell_type": "code",
   "execution_count": 162,
   "metadata": {},
   "outputs": [],
   "source": [
    "import scipy.cluster.hierarchy as sc\n",
    "from sklearn.cluster import AgglomerativeClustering"
   ]
  },
  {
   "cell_type": "code",
   "execution_count": 159,
   "metadata": {},
   "outputs": [
    {
     "data": {
      "image/png": "[encoded data removed]",
      "text/plain": [
       "<Figure size 432x288 with 1 Axes>"
      ]
     },
     "metadata": {
      "needs_background": "light"
     },
     "output_type": "display_data"
    }
   ],
   "source": [
    "plt.title(\"Dendrograms\") \n",
    "den = sc.dendrogram(sc.linkage(X, method='ward'))"
   ]
  },
  {
   "cell_type": "code",
   "execution_count": 170,
   "metadata": {},
   "outputs": [
    {
     "data": {
      "text/plain": [
       "<matplotlib.collections.PathCollection at 0x19a1d9a2898>"
      ]
     },
     "execution_count": 170,
     "metadata": {},
     "output_type": "execute_result"
    },
    {
     "data": {
      "image/png": "[encoded data removed]",
      "text/plain": [
       "<Figure size 1080x360 with 3 Axes>"
      ]
     },
     "metadata": {
      "needs_background": "light"
     },
     "output_type": "display_data"
    }
   ],
   "source": [
    "plt.figure(figsize=(15, 5))\n",
    "clu = AgglomerativeClustering(n_clusters=2, affinity='euclidean', linkage='ward')  \n",
    "clu.fit_predict(X)\n",
    "plt.subplot(1,3,1)  \n",
    "plt.scatter(X['2018'], X['2012'], c=clu.labels_) \n",
    "\n",
    "clu = AgglomerativeClustering(n_clusters=3, affinity='euclidean', linkage='ward')  \n",
    "clu.fit_predict(X)\n",
    "plt.subplot(1,3,2)  \n",
    "plt.scatter(X['2018'], X['2012'], c=clu.labels_)\n",
    "\n",
    "clu = AgglomerativeClustering(n_clusters=4, affinity='euclidean', linkage='ward')  \n",
    "clu.fit_predict(X)\n",
    "plt.subplot(1,3,3)  \n",
    "plt.scatter(X['2018'], X['2012'], c=clu.labels_)"
   ]
  },
  {
   "cell_type": "markdown",
   "metadata": {},
   "source": [
    "### Conclusion:\n",
    "\n",
    "When compared with KMeans clustering, both seems to be same."
   ]
  },
  {
   "cell_type": "markdown",
   "metadata": {},
   "source": [
    "### 6 Discussion"
   ]
  },
  {
   "cell_type": "markdown",
   "metadata": {},
   "source": [
    "- According to our data analysis done on this notebook with the dataset \"employment on wales\" from statsWales data source. \n",
    "- It is found that, production industry has able to employ the highest number of workers, whereas real estate industry the least. This was the case for all the years from 2009 to 2018. \n",
    "- The sum of employment in yearwise for all the industries put together, 2018 was able to give the highest employment in wales, whereas 2012 provided the least employment opportunity. especially in last two years 2017 & 2018, number of employment opportunity have increased significantly, when compared with the previous years from 2009.\n",
    "- When growth of the industries was considered from 2009-2018, real estate industries has grown like anything when compared with the rest of the industries in wales. The least grown industry was public administration.\n",
    "- The postive change of work force was highest in 2017-2016 and least during 2010-2009\n",
    "\n",
    "- Thus, it can be concluded 2018, can be a good year in terms of employment across the industries in wales. Production industry offers highest employment, and real estate industry growth is high."
   ]
  },
  {
   "cell_type": "code",
   "execution_count": null,
   "metadata": {},
   "outputs": [],
   "source": []
  }
 ],
 "metadata": {
  "kernelspec": {
   "display_name": "Python 3",
   "language": "python",
   "name": "python3"
  },
  "language_info": {
   "codemirror_mode": {
    "name": "ipython",
    "version": 3
   },
   "file_extension": ".py",
   "mimetype": "text/x-python",
   "name": "python",
   "nbconvert_exporter": "python",
   "pygments_lexer": "ipython3",
   "version": "3.7.3"
  }
 },
 "nbformat": 4,
 "nbformat_minor": 2
}
